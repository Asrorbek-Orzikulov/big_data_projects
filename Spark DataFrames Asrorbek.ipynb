{
  "nbformat": 4,
  "nbformat_minor": 0,
  "metadata": {
    "colab": {
      "name": "ass_spark_dataframes_2021_sujet_colab.ipynb",
      "provenance": [],
      "collapsed_sections": [
        "99_WnUHTVXp5",
        "RbXKRuBEVXp6"
      ]
    },
    "kernelspec": {
      "display_name": "Python 3 (ipykernel)",
      "language": "python",
      "name": "python3"
    },
    "language_info": {
      "codemirror_mode": {
        "name": "ipython",
        "version": 3
      },
      "file_extension": ".py",
      "mimetype": "text/x-python",
      "name": "python",
      "nbconvert_exporter": "python",
      "pygments_lexer": "ipython3",
      "version": "3.8.12"
    }
  },
  "cells": [
    {
      "cell_type": "markdown",
      "metadata": {
        "id": "rbuZfFWZVXpn"
      },
      "source": [
        "<h1><center>Big Data Algorithms Techniques & Platforms</center></h1>\n",
        "<h2>\n",
        "<hr style=\" border:none; height:3px;\">\n",
        "<center>Spark and DataFrames</center>\n",
        "<hr style=\" border:none; height:3px;\">\n",
        "</h2>"
      ]
    },
    {
      "cell_type": "markdown",
      "metadata": {
        "id": "ZBLI_qUSVXpq"
      },
      "source": [
        "## Objectives \n",
        "\n",
        "<strong> Dataframes: </strong>\n",
        "<ul>\n",
        "    <li>  PySpark </li> \n",
        "    <li>  Pandas library on Spark</li> \n",
        "</ul>"
      ]
    },
    {
      "cell_type": "markdown",
      "metadata": {
        "id": "42q0jiKKVXpr"
      },
      "source": [
        "# A. Context\n",
        "\n",
        "<p align=\"justify\">\n",
        "<font size=\"3\">\n",
        "We are going to use quite a big dataset containing data on Bitcoin available on <a href=\"https://www.kaggle.com/mczielinski/bitcoin-historical-data\">Kaggle</a>.\n",
        "\n",
        "As stated in the description of the dataset:\n",
        "\"Bitcoin is the longest running and most well-known cryptocurrency, first released as open source in 2009 by the anonymous Satoshi Nakamoto. Bitcoin serves as a decentralized medium of digital exchange, with transactions verified and recorded in a public distributed ledger (the blockchain) without the need for a trusted record keeping authority or central intermediary.\" \n",
        "</font>\n",
        "</p>\n",
        "\n",
        "\n",
        "### The dataset\n",
        "\n",
        "<p align=\"justify\">\n",
        "<font size=\"3\">\n",
        "The dataset is in a .csv file for selected bitcoin exchanges for the time period of January 2012 to March 2021, with minute-to-minute updates of OHLC (Open, High, Low, Close), Volume in BTC and indicated currency, and weighted bitcoin price. \n",
        "\n",
        "Notice that:\n",
        "<ul>\n",
        "    <li> Timestamps are in Unix time.</li>\n",
        "<li> Timestamps without any trades or activity have their data fields filled with NaNs. </li>\n",
        "<li>  If a timestamp is missing, or if there are jumps, this may be because the exchange (or its API) was down, the exchange (or its API) did not exist, or some other unforeseen technical error in data reporting or gathering. </li>\n",
        "</ul>\n",
        "As stated by the author, \"all effort has been made to deduplicate entries and verify the contents are correct and complete to the best of my ability, but obviously trust at your own risk\".\n",
        "</p>\n",
        "</font>"
      ]
    },
    {
      "cell_type": "markdown",
      "metadata": {
        "id": "Zd5y1A2BVXpr"
      },
      "source": [
        "# B. Environment set-up"
      ]
    },
    {
      "cell_type": "code",
      "metadata": {
        "id": "wVZaAkIgVXps"
      },
      "source": [
        "# !apt-get update\n",
        "# !apt-get install openjdk-8-jdk-headless -qq > /dev/null\n",
        "# !wget -q https://downloads.apache.org/spark/spark-3.0.3/spark-3.0.3-bin-hadoop2.7.tgz\n",
        "# !tar zxvf spark-3.0.3-bin-hadoop2.7.tgz\n",
        "# !pip install -q findspark\n",
        "# !pip install plotly\n",
        "# !unzip archive.zip\n",
        "\n",
        "import os\n",
        "import findspark\n",
        "import pandas as pd\n",
        "from pandas.testing import assert_frame_equal\n",
        "from plotly.offline import iplot, init_notebook_mode\n",
        "import plotly.graph_objects as go\n",
        "import datetime as dt\n",
        "\n",
        "os.environ[\"JAVA_HOME\"] = \"/usr/lib/jvm/java-8-openjdk-amd64\"\n",
        "os.environ[\"SPARK_HOME\"] = \"/content/spark-3.0.3-bin-hadoop2.7\"\n",
        "findspark.init()"
      ],
      "execution_count": 1,
      "outputs": []
    },
    {
      "cell_type": "code",
      "metadata": {
        "id": "YnIAJZrfVXps"
      },
      "source": [
        "from pyspark.sql import SparkSession\n",
        "from pyspark.sql.types import TimestampType\n",
        "from pyspark.sql.functions import (\n",
        "    to_timestamp, year, month, min as spark_min, max as spark_max, mean, stddev)\n",
        "\n",
        "spark = SparkSession.builder\\\n",
        "    .appName(\"Assignment2\")\\\n",
        "    .getOrCreate()"
      ],
      "execution_count": 2,
      "outputs": []
    },
    {
      "cell_type": "markdown",
      "metadata": {
        "id": "CdYKtVF_VXpt"
      },
      "source": [
        "## B.1  File import\n",
        "    \n",
        "<p align=\"justify\">\n",
        "<font size=\"3\">\n",
        "In this exercise, the goal is to create a Spark DataFrame from the csv file in input. \n",
        "\n",
        "Recall that in a Spark DataFrame, the type of a column is very important for the internal data representation. \n",
        "    \n",
        "For this step, use the following types for the columns:\n",
        "<ul>\n",
        "    <li>    $Date_Time: Timestamp$ </li>\n",
        "     <li>   $Open: double$ </li>\n",
        "     <li>   $High: double$ </li>\n",
        "    <li>    $Low: double$ </li>\n",
        "    <li>    $Close: double$ </li>\n",
        "    <li>    $Volume_BTC: double$ </li>\n",
        "    <li>    $Volume_Currency: double$ </li>\n",
        "    <li>    $Weighted_Price: double$ </li>\n",
        "</ul>\n",
        "    \n",
        "</font>\n",
        "</p>"
      ]
    },
    {
      "cell_type": "markdown",
      "metadata": {
        "id": "SQZN4xiqVXpt"
      },
      "source": [
        "### <strong> Exercise 1.</strong> First import (1 point)\n",
        "    \n",
        "<p align=\"justify\">\n",
        "<font size=\"3\">\n",
        "Import the csv file into a Spark DataFrame.\n",
        "</font>\n",
        "</p>"
      ]
    },
    {
      "cell_type": "code",
      "metadata": {
        "id": "imMeOHQmVXpu",
        "colab": {
          "base_uri": "https://localhost:8080/"
        },
        "outputId": "cc542b7e-b9e2-45eb-87a1-a5a1019d85c7"
      },
      "source": [
        "df1 = spark.read.option(\"header\", \"true\")\\\n",
        "    .option(\"inferSchema\", \"true\")\\\n",
        "    .csv(\"bitstampUSD_1-min_data_2012-01-01_to_2021-03-31.csv\")\n",
        "df1\n",
        "\n",
        "#######################\n",
        "# EXPECTED OUTPUT:\n",
        "# DataFrame[Timestamp: int, Open: double, High: double, Low: double, Close: double, Volume_(BTC): double, Volume_(Currency): double, Weighted_Price: double]\n",
        "#######################"
      ],
      "execution_count": 3,
      "outputs": [
        {
          "output_type": "execute_result",
          "data": {
            "text/plain": [
              "DataFrame[Timestamp: int, Open: double, High: double, Low: double, Close: double, Volume_(BTC): double, Volume_(Currency): double, Weighted_Price: double]"
            ]
          },
          "metadata": {},
          "execution_count": 3
        }
      ]
    },
    {
      "cell_type": "code",
      "metadata": {
        "id": "XTbhA1Aip4mM",
        "colab": {
          "base_uri": "https://localhost:8080/"
        },
        "outputId": "c9a0069c-28b8-4295-f534-bf1a745f8fa6"
      },
      "source": [
        "df1.take(5)"
      ],
      "execution_count": 4,
      "outputs": [
        {
          "output_type": "execute_result",
          "data": {
            "text/plain": [
              "[Row(Timestamp=1325317920, Open=4.39, High=4.39, Low=4.39, Close=4.39, Volume_(BTC)=0.45558087, Volume_(Currency)=2.0000000193, Weighted_Price=4.39),\n",
              " Row(Timestamp=1325317980, Open=nan, High=nan, Low=nan, Close=nan, Volume_(BTC)=nan, Volume_(Currency)=nan, Weighted_Price=nan),\n",
              " Row(Timestamp=1325318040, Open=nan, High=nan, Low=nan, Close=nan, Volume_(BTC)=nan, Volume_(Currency)=nan, Weighted_Price=nan),\n",
              " Row(Timestamp=1325318100, Open=nan, High=nan, Low=nan, Close=nan, Volume_(BTC)=nan, Volume_(Currency)=nan, Weighted_Price=nan),\n",
              " Row(Timestamp=1325318160, Open=nan, High=nan, Low=nan, Close=nan, Volume_(BTC)=nan, Volume_(Currency)=nan, Weighted_Price=nan)]"
            ]
          },
          "metadata": {},
          "execution_count": 4
        }
      ]
    },
    {
      "cell_type": "markdown",
      "metadata": {
        "id": "OUS9JWIcVXpv"
      },
      "source": [
        "### <strong> Exercise 2. </strong> Timestamp column (1 point)\n",
        "    \n",
        "<p align=\"justify\">\n",
        "<font size=\"3\">\n",
        "Look again at the target schema:\n",
        "    \n",
        "<ul>\n",
        "    <li>    $Date\\_Time: Timestamp$ </li>\n",
        "     <li>   $Open: double$ </li>\n",
        "     <li>   $High: double$ </li>\n",
        "    <li>    $Low: double$ </li>\n",
        "    <li>    $Close: double$ </li>\n",
        "    <li>    $Volume\\_BTC: double$ </li>\n",
        "    <li>    $Volume\\_Currency: double$ </li>\n",
        "    <li>    $Weighted\\_Price: double$ </li>\n",
        "</ul>\n",
        "    \n",
        "You notice that the import data has three problems with respect to the target schema:\n",
        "    \n",
        "    \n",
        "<ul>\n",
        "    <li> the $Date\\_Time$ column is not present in the original file </li>\n",
        "    <li> there is an $int$ column $Timestamp$ that can be converted and transformed to a $Date$</li> \n",
        "    <li> some of the column names contain not required parentesis. </li>\n",
        "</ul>     \n",
        "</font>\n",
        "</p>   \n",
        "  \n",
        "<p align=\"justify\">\n",
        "<font size=\"3\">\n",
        "Refine the import of the csv file and convert the \"timestamp\" column in the proper $Timestamp$ type:\n",
        "    <ul>\n",
        "        <li>   Create a new column <code>Date\\_Time</code>, which is the conversion of the $Integer$ column into $Timestamp$ type  </li>\n",
        "</ul>\n",
        "</font>\n",
        "</p>"
      ]
    },
    {
      "cell_type": "code",
      "metadata": {
        "id": "Pj8BeALtVXpv",
        "colab": {
          "base_uri": "https://localhost:8080/"
        },
        "outputId": "e200f25e-6c58-4b91-f05c-f2af2f89bed1"
      },
      "source": [
        "df2 = df1.withColumn(\"Date_Time\", to_timestamp(\"Timestamp\")) \n",
        "df2\n",
        "\n",
        "#######################\n",
        "# EXPECTED OUTPUT:\n",
        "# DataFrame[Timestamp: int, Open: double, High: double, Low: double, Close: double, Volume_(BTC): double, Volume_(Currency): double, Weighted_Price: double, Date_Time: timestamp]\n",
        "#######################"
      ],
      "execution_count": 5,
      "outputs": [
        {
          "output_type": "execute_result",
          "data": {
            "text/plain": [
              "DataFrame[Timestamp: int, Open: double, High: double, Low: double, Close: double, Volume_(BTC): double, Volume_(Currency): double, Weighted_Price: double, Date_Time: timestamp]"
            ]
          },
          "metadata": {},
          "execution_count": 5
        }
      ]
    },
    {
      "cell_type": "code",
      "metadata": {
        "id": "iBcoKytNVXpw",
        "colab": {
          "base_uri": "https://localhost:8080/"
        },
        "outputId": "bbaa6c8a-c80c-44ac-f85c-00d81cb50ad9"
      },
      "source": [
        "df2.take(5)"
      ],
      "execution_count": 6,
      "outputs": [
        {
          "output_type": "execute_result",
          "data": {
            "text/plain": [
              "[Row(Timestamp=1325317920, Open=4.39, High=4.39, Low=4.39, Close=4.39, Volume_(BTC)=0.45558087, Volume_(Currency)=2.0000000193, Weighted_Price=4.39, Date_Time=datetime.datetime(2011, 12, 31, 7, 52)),\n",
              " Row(Timestamp=1325317980, Open=nan, High=nan, Low=nan, Close=nan, Volume_(BTC)=nan, Volume_(Currency)=nan, Weighted_Price=nan, Date_Time=datetime.datetime(2011, 12, 31, 7, 53)),\n",
              " Row(Timestamp=1325318040, Open=nan, High=nan, Low=nan, Close=nan, Volume_(BTC)=nan, Volume_(Currency)=nan, Weighted_Price=nan, Date_Time=datetime.datetime(2011, 12, 31, 7, 54)),\n",
              " Row(Timestamp=1325318100, Open=nan, High=nan, Low=nan, Close=nan, Volume_(BTC)=nan, Volume_(Currency)=nan, Weighted_Price=nan, Date_Time=datetime.datetime(2011, 12, 31, 7, 55)),\n",
              " Row(Timestamp=1325318160, Open=nan, High=nan, Low=nan, Close=nan, Volume_(BTC)=nan, Volume_(Currency)=nan, Weighted_Price=nan, Date_Time=datetime.datetime(2011, 12, 31, 7, 56))]"
            ]
          },
          "metadata": {},
          "execution_count": 6
        }
      ]
    },
    {
      "cell_type": "markdown",
      "metadata": {
        "id": "vWEJTFojVXpw"
      },
      "source": [
        "### <strong> Exercise 3.</strong> Column names (2 points)\n",
        "\n",
        "\n",
        "<p align=\"justify\">\n",
        "<font size=\"3\">\n",
        "As you can see from the output of the previous exercise, the names of the columns still present some problems since there are some unnecessary parentheses.\n",
        "    <ul>\n",
        "     <li> Remove the not required parentheses from the colum names </li>\n",
        "</ul>\n",
        "</font>\n",
        "</p>\n"
      ]
    },
    {
      "cell_type": "code",
      "metadata": {
        "id": "yRv_VbgYVXpw",
        "colab": {
          "base_uri": "https://localhost:8080/"
        },
        "outputId": "72b230f1-aeb3-4747-cfeb-ac25b64e52ea"
      },
      "source": [
        "df_no_paren = df2.withColumnRenamed(\"Volume_(BTC)\", \"Volume_BTC\")\\\n",
        "              .withColumnRenamed(\"Volume_(Currency)\", \"Volume_Currency\")\n",
        "df_no_paren\n",
        "\n",
        "#######################\n",
        "# EXPECTED OUTPUT:\n",
        "#DataFrame[Timestamp: int, Open: double, High: double, Low: double, Close: double Volume_BTC: double, Volume_Currency: double, Weighted_Price: double, Date_Time: timestamp]\n",
        "#######################"
      ],
      "execution_count": 7,
      "outputs": [
        {
          "output_type": "execute_result",
          "data": {
            "text/plain": [
              "DataFrame[Timestamp: int, Open: double, High: double, Low: double, Close: double, Volume_BTC: double, Volume_Currency: double, Weighted_Price: double, Date_Time: timestamp]"
            ]
          },
          "metadata": {},
          "execution_count": 7
        }
      ]
    },
    {
      "cell_type": "code",
      "metadata": {
        "id": "YU2SFo0UVXpw",
        "colab": {
          "base_uri": "https://localhost:8080/"
        },
        "outputId": "15f59204-b537-4e6e-ad46-53c4806003e8"
      },
      "source": [
        "df_no_paren.show(5)\n",
        "\n",
        "#######################\n",
        "# Expected output:\n",
        "#+----------+----+----+----+-----+----------+---------------+--------------+-------------------+\n",
        "#| Timestamp|Open|High| Low|Close|Volume_BTC|Volume_Currency|Weighted_Price|          Date_Time|\n",
        "#+----------+----+----+----+-----+----------+---------------+--------------+-------------------+\n",
        "#|1325317920|4.39|4.39|4.39| 4.39|0.45558087|   2.0000000193|          4.39|2011-12-31 07:52:00|\n",
        "#|1325317980| NaN| NaN| NaN|  NaN|       NaN|            NaN|           NaN|2011-12-31 07:53:00|\n",
        "#|1325318040| NaN| NaN| NaN|  NaN|       NaN|            NaN|           NaN|2011-12-31 07:54:00|\n",
        "#|1325318100| NaN| NaN| NaN|  NaN|       NaN|            NaN|           NaN|2011-12-31 07:55:00|\n",
        "#|1325318160| NaN| NaN| NaN|  NaN|       NaN|            NaN|           NaN|2011-12-31 07:56:00|\n",
        "#+----------+----+----+----+-----+----------+---------------+--------------+-------------------+"
      ],
      "execution_count": 8,
      "outputs": [
        {
          "output_type": "stream",
          "name": "stdout",
          "text": [
            "+----------+----+----+----+-----+----------+---------------+--------------+-------------------+\n",
            "| Timestamp|Open|High| Low|Close|Volume_BTC|Volume_Currency|Weighted_Price|          Date_Time|\n",
            "+----------+----+----+----+-----+----------+---------------+--------------+-------------------+\n",
            "|1325317920|4.39|4.39|4.39| 4.39|0.45558087|   2.0000000193|          4.39|2011-12-31 07:52:00|\n",
            "|1325317980| NaN| NaN| NaN|  NaN|       NaN|            NaN|           NaN|2011-12-31 07:53:00|\n",
            "|1325318040| NaN| NaN| NaN|  NaN|       NaN|            NaN|           NaN|2011-12-31 07:54:00|\n",
            "|1325318100| NaN| NaN| NaN|  NaN|       NaN|            NaN|           NaN|2011-12-31 07:55:00|\n",
            "|1325318160| NaN| NaN| NaN|  NaN|       NaN|            NaN|           NaN|2011-12-31 07:56:00|\n",
            "+----------+----+----+----+-----+----------+---------------+--------------+-------------------+\n",
            "only showing top 5 rows\n",
            "\n"
          ]
        }
      ]
    },
    {
      "cell_type": "markdown",
      "metadata": {
        "id": "lw7ktEJKVXpx"
      },
      "source": [
        "## B.2 DataFrame columns \n",
        "\n",
        "\n",
        "<p align=\"justify\">\n",
        "<font size=\"3\">\n",
        "    \n",
        "In this part of the exercise, we are going continue to modify the Spark DataFrames. Remember that using  PySpark, it's possible to access a DataFrame's columns either by attribute (<code>df.attributeName</code>) or by indexing <code>(df['attributeName'])</code>.\n",
        "</font>\n",
        "</p>\n"
      ]
    },
    {
      "cell_type": "markdown",
      "metadata": {
        "id": "ZBgUaY_oVXpx"
      },
      "source": [
        "### <strong> Exercise 4.</strong>  Add two new columns to the DataFrame (2 points)\n",
        "    \n",
        "<p align=\"justify\">\n",
        "<font size=\"3\">\n",
        "We want to extend the DataFrame with two other columns: given the $Date\\_Time$ column, you should create two new columns ($Year$ and $Month$) that contain \n",
        "    <ul>\n",
        "     <li> the year </li>\n",
        "     <li> the month of the year </li>\n",
        "</ul>\n",
        "    \n",
        "</font>\n",
        "</p>\n",
        "    \n",
        "    \n",
        "    "
      ]
    },
    {
      "cell_type": "code",
      "metadata": {
        "id": "zsehHsySVXpz",
        "colab": {
          "base_uri": "https://localhost:8080/"
        },
        "outputId": "f5858b72-ca06-4372-c459-956e6a548e8d"
      },
      "source": [
        "df_with_date = df_no_paren.withColumn(\"Year\", year(\"Date_Time\"))\\\n",
        "                          .withColumn(\"Month\", month(\"Date_Time\"))\n",
        "\n",
        "df_with_date.show(5)\n",
        "\n",
        "#######################\n",
        "# Expected output:\n",
        "#+----------+----+----+----+-----+----------+---------------+--------------+-------------------+----+-----+\n",
        "#| Timestamp|Open|High| Low|Close|Volume_BTC|Volume_Currency|Weighted_Price|          Date_Time|Year|Month|\n",
        "#+----------+----+----+----+-----+----------+---------------+--------------+-------------------+----+-----+\n",
        "#|1325317920|4.39|4.39|4.39| 4.39|0.45558087|   2.0000000193|          4.39|2011-12-31 07:52:00|2011|   12|\n",
        "#|1325317980| NaN| NaN| NaN|  NaN|       NaN|            NaN|           NaN|2011-12-31 07:53:00|2011|   12|\n",
        "#|1325318040| NaN| NaN| NaN|  NaN|       NaN|            NaN|           NaN|2011-12-31 07:54:00|2011|   12|\n",
        "#|1325318100| NaN| NaN| NaN|  NaN|       NaN|            NaN|           NaN|2011-12-31 07:55:00|2011|   12|\n",
        "#|1325318160| NaN| NaN| NaN|  NaN|       NaN|            NaN|           NaN|2011-12-31 07:56:00|2011|   12|\n",
        "#+----------+----+----+----+-----+----------+---------------+--------------+-------------------+----+-----+\n"
      ],
      "execution_count": 9,
      "outputs": [
        {
          "output_type": "stream",
          "name": "stdout",
          "text": [
            "+----------+----+----+----+-----+----------+---------------+--------------+-------------------+----+-----+\n",
            "| Timestamp|Open|High| Low|Close|Volume_BTC|Volume_Currency|Weighted_Price|          Date_Time|Year|Month|\n",
            "+----------+----+----+----+-----+----------+---------------+--------------+-------------------+----+-----+\n",
            "|1325317920|4.39|4.39|4.39| 4.39|0.45558087|   2.0000000193|          4.39|2011-12-31 07:52:00|2011|   12|\n",
            "|1325317980| NaN| NaN| NaN|  NaN|       NaN|            NaN|           NaN|2011-12-31 07:53:00|2011|   12|\n",
            "|1325318040| NaN| NaN| NaN|  NaN|       NaN|            NaN|           NaN|2011-12-31 07:54:00|2011|   12|\n",
            "|1325318100| NaN| NaN| NaN|  NaN|       NaN|            NaN|           NaN|2011-12-31 07:55:00|2011|   12|\n",
            "|1325318160| NaN| NaN| NaN|  NaN|       NaN|            NaN|           NaN|2011-12-31 07:56:00|2011|   12|\n",
            "+----------+----+----+----+-----+----------+---------------+--------------+-------------------+----+-----+\n",
            "only showing top 5 rows\n",
            "\n"
          ]
        }
      ]
    },
    {
      "cell_type": "markdown",
      "metadata": {
        "id": "sDMJbhTbVXpz"
      },
      "source": [
        "###  <strong>Exercise 5.</strong>  Drop Timestamp (2 points)\n",
        "    \n",
        "<p align=\"justify\">\n",
        "<font size=\"3\">\n",
        "Finally we clean the schema and we can remove the the $Timestamp$ column.\n",
        "</font>\n",
        "</p>\n"
      ]
    },
    {
      "cell_type": "code",
      "metadata": {
        "id": "Qm8I1zhzVXp0",
        "colab": {
          "base_uri": "https://localhost:8080/"
        },
        "outputId": "b4000700-652c-41d7-9a2f-be4accbb89e4"
      },
      "source": [
        "df_clean = df_with_date.drop(\"Timestamp\")\n",
        "df_clean.show(5)\n",
        "\n",
        "#######################\n",
        "# Expected output:\n",
        "#+----+----+----+-----+----------+---------------+--------------+-------------------+----+-----+\n",
        "#|Open|High| Low|Close|Volume_BTC|Volume_Currency|Weighted_Price|          Date_Time|Year|Month|\n",
        "#+----+----+----+-----+----------+---------------+--------------+-------------------+----+-----+\n",
        "#|4.39|4.39|4.39| 4.39|0.45558087|   2.0000000193|          4.39|2011-12-31 07:52:00|2011|   12|\n",
        "#| NaN| NaN| NaN|  NaN|       NaN|            NaN|           NaN|2011-12-31 07:53:00|2011|   12|\n",
        "#| NaN| NaN| NaN|  NaN|       NaN|            NaN|           NaN|2011-12-31 07:54:00|2011|   12|\n",
        "#| NaN| NaN| NaN|  NaN|       NaN|            NaN|           NaN|2011-12-31 07:55:00|2011|   12|\n",
        "#| NaN| NaN| NaN|  NaN|       NaN|            NaN|           NaN|2011-12-31 07:56:00|2011|   12|\n",
        "#+----+----+----+-----+----------+---------------+--------------+-------------------+----+-----+\n"
      ],
      "execution_count": 10,
      "outputs": [
        {
          "output_type": "stream",
          "name": "stdout",
          "text": [
            "+----+----+----+-----+----------+---------------+--------------+-------------------+----+-----+\n",
            "|Open|High| Low|Close|Volume_BTC|Volume_Currency|Weighted_Price|          Date_Time|Year|Month|\n",
            "+----+----+----+-----+----------+---------------+--------------+-------------------+----+-----+\n",
            "|4.39|4.39|4.39| 4.39|0.45558087|   2.0000000193|          4.39|2011-12-31 07:52:00|2011|   12|\n",
            "| NaN| NaN| NaN|  NaN|       NaN|            NaN|           NaN|2011-12-31 07:53:00|2011|   12|\n",
            "| NaN| NaN| NaN|  NaN|       NaN|            NaN|           NaN|2011-12-31 07:54:00|2011|   12|\n",
            "| NaN| NaN| NaN|  NaN|       NaN|            NaN|           NaN|2011-12-31 07:55:00|2011|   12|\n",
            "| NaN| NaN| NaN|  NaN|       NaN|            NaN|           NaN|2011-12-31 07:56:00|2011|   12|\n",
            "+----+----+----+-----+----------+---------------+--------------+-------------------+----+-----+\n",
            "only showing top 5 rows\n",
            "\n"
          ]
        }
      ]
    },
    {
      "cell_type": "markdown",
      "metadata": {
        "id": "8dm-ovIcVXp0"
      },
      "source": [
        "#  C. Using Parquet\n",
        "\n",
        "<p align=\"justify\">\n",
        "<font size=\"3\">\n",
        "In order to gain in performance, it is a good idea to use a NoSQL structure, here Parquet, that will allow to partition the Spark Dataframe and to store it in multiple Parquet files. \n",
        "</font>\n",
        "</p>\n",
        "\n",
        "<p align=\"justify\">\n",
        "<font size=\"3\">\n",
        "Parquet is a columnar storage format available to any project in the Hadoop ecosystem, regardless of the choice of data processing framework, data model or programming language.\n",
        "</font>\n",
        "</p>"
      ]
    },
    {
      "cell_type": "markdown",
      "metadata": {
        "id": "WicAuWMfA9xo"
      },
      "source": [
        "## C.1 Saving data in Parquet\n",
        "    \n",
        "Here, partition the file according to:\n",
        "    \n",
        " <ul>\n",
        "    <li> the year </li>\n",
        "    <li> the month of the year </li>\n",
        "</ul>\n",
        "</font>\n",
        "</p>\n",
        "\n"
      ]
    },
    {
      "cell_type": "code",
      "metadata": {
        "id": "vTR8AxS2VXp0",
        "colab": {
          "base_uri": "https://localhost:8080/"
        },
        "outputId": "470928e6-a5c1-4c9c-a44b-9ee7bfbcb4ec"
      },
      "source": [
        "df_clean.write.partitionBy([\"Year\", \"Month\"]).parquet(\"BTC/\", mode='overwrite')\n",
        "print(\"writing to Parquet done\")"
      ],
      "execution_count": 11,
      "outputs": [
        {
          "output_type": "stream",
          "name": "stdout",
          "text": [
            "writing to Parquet done\n"
          ]
        }
      ]
    },
    {
      "cell_type": "markdown",
      "metadata": {
        "id": "Ic-eLcr0VXp0"
      },
      "source": [
        "##  C.2 Check the folder Structure\n",
        "\n",
        " \n",
        "<p align=\"justify\">\n",
        "<font size=\"3\">\n",
        "Look at the folder structure that has been created for the storage of the file. You see how the partitioning stategy of Parquet and the data distribution of Spark can be used, explicitely or implicitely, to improve performance.\n",
        "\n",
        "While you navigate, remember that in the data access:\n",
        "    \n",
        " <ul>\n",
        "     <li> the navigation is done using Parquet </li>\n",
        "     <li> the leafs contain the encoded Parquet files </li>\n",
        "</ul>\n",
        "</font>\n",
        "</p>\n",
        "\n",
        "\n"
      ]
    },
    {
      "cell_type": "code",
      "metadata": {
        "id": "dC1C75uIVXp1"
      },
      "source": [
        "#BTC\n",
        "#        ├── Year=2011\n",
        "#        │   ├── ...\n",
        "#        │   │\n",
        "#        │   ├── month=12\n",
        "#        ├── Year=2012\n",
        "#        │   ├── month=1\n",
        "#        │   ├── ...\n",
        "#        │   │\n",
        "#       ..."
      ],
      "execution_count": 12,
      "outputs": []
    },
    {
      "cell_type": "markdown",
      "metadata": {
        "id": "4JeyD03ipig_"
      },
      "source": [
        "This folder structure corresponds to a physical and logical data partitioning."
      ]
    },
    {
      "cell_type": "markdown",
      "metadata": {
        "id": "gMCbaNcPVXp1"
      },
      "source": [
        "# D. Pandas\n",
        "\n",
        " \n",
        "<p align=\"justify\">\n",
        "<font size=\"3\">\n",
        "This data organization opens the opportunity to read data also using Pandas and not using Parquet. Write the command that uses Pandas read the data for the year 2011.\n",
        "    \n",
        "</font>\n",
        "</p>"
      ]
    },
    {
      "cell_type": "code",
      "metadata": {
        "id": "jlRYuW0hVXp1",
        "scrolled": true,
        "colab": {
          "base_uri": "https://localhost:8080/",
          "height": 204
        },
        "outputId": "834c4dcf-95d4-4afc-e68a-8d942db6f4f3"
      },
      "source": [
        "df = pd.read_parquet(\"BTC/Year=2011\")\n",
        "df.head()\n",
        "\n",
        "#######################\n",
        "# Check the expected output:\n",
        "#Open\tHigh\tLow\tClose\tVolume_BTC\tVolume_Currency\tWeighted_Price\tDate_Time\tMonth\n",
        "#0\t4.39\t4.39\t4.39\t4.39\t0.455581\t2.0\t4.39\t2011-12-31 07:52:00\t12\n",
        "#1\tNaN\tNaN\tNaN\tNaN\tNaN\tNaN\tNaN\t2011-12-31 07:53:00\t12\n",
        "#2\tNaN\tNaN\tNaN\tNaN\tNaN\tNaN\tNaN\t2011-12-31 07:54:00\t12\n",
        "#3\tNaN\tNaN\tNaN\tNaN\tNaN\tNaN\tNaN\t2011-12-31 07:55:00\t12\n",
        "#..."
      ],
      "execution_count": 13,
      "outputs": [
        {
          "output_type": "execute_result",
          "data": {
            "text/html": [
              "<div>\n",
              "<style scoped>\n",
              "    .dataframe tbody tr th:only-of-type {\n",
              "        vertical-align: middle;\n",
              "    }\n",
              "\n",
              "    .dataframe tbody tr th {\n",
              "        vertical-align: top;\n",
              "    }\n",
              "\n",
              "    .dataframe thead th {\n",
              "        text-align: right;\n",
              "    }\n",
              "</style>\n",
              "<table border=\"1\" class=\"dataframe\">\n",
              "  <thead>\n",
              "    <tr style=\"text-align: right;\">\n",
              "      <th></th>\n",
              "      <th>Open</th>\n",
              "      <th>High</th>\n",
              "      <th>Low</th>\n",
              "      <th>Close</th>\n",
              "      <th>Volume_BTC</th>\n",
              "      <th>Volume_Currency</th>\n",
              "      <th>Weighted_Price</th>\n",
              "      <th>Date_Time</th>\n",
              "      <th>Month</th>\n",
              "    </tr>\n",
              "  </thead>\n",
              "  <tbody>\n",
              "    <tr>\n",
              "      <th>0</th>\n",
              "      <td>4.39</td>\n",
              "      <td>4.39</td>\n",
              "      <td>4.39</td>\n",
              "      <td>4.39</td>\n",
              "      <td>0.455581</td>\n",
              "      <td>2.0</td>\n",
              "      <td>4.39</td>\n",
              "      <td>2011-12-31 07:52:00</td>\n",
              "      <td>12</td>\n",
              "    </tr>\n",
              "    <tr>\n",
              "      <th>1</th>\n",
              "      <td>NaN</td>\n",
              "      <td>NaN</td>\n",
              "      <td>NaN</td>\n",
              "      <td>NaN</td>\n",
              "      <td>NaN</td>\n",
              "      <td>NaN</td>\n",
              "      <td>NaN</td>\n",
              "      <td>2011-12-31 07:53:00</td>\n",
              "      <td>12</td>\n",
              "    </tr>\n",
              "    <tr>\n",
              "      <th>2</th>\n",
              "      <td>NaN</td>\n",
              "      <td>NaN</td>\n",
              "      <td>NaN</td>\n",
              "      <td>NaN</td>\n",
              "      <td>NaN</td>\n",
              "      <td>NaN</td>\n",
              "      <td>NaN</td>\n",
              "      <td>2011-12-31 07:54:00</td>\n",
              "      <td>12</td>\n",
              "    </tr>\n",
              "    <tr>\n",
              "      <th>3</th>\n",
              "      <td>NaN</td>\n",
              "      <td>NaN</td>\n",
              "      <td>NaN</td>\n",
              "      <td>NaN</td>\n",
              "      <td>NaN</td>\n",
              "      <td>NaN</td>\n",
              "      <td>NaN</td>\n",
              "      <td>2011-12-31 07:55:00</td>\n",
              "      <td>12</td>\n",
              "    </tr>\n",
              "    <tr>\n",
              "      <th>4</th>\n",
              "      <td>NaN</td>\n",
              "      <td>NaN</td>\n",
              "      <td>NaN</td>\n",
              "      <td>NaN</td>\n",
              "      <td>NaN</td>\n",
              "      <td>NaN</td>\n",
              "      <td>NaN</td>\n",
              "      <td>2011-12-31 07:56:00</td>\n",
              "      <td>12</td>\n",
              "    </tr>\n",
              "  </tbody>\n",
              "</table>\n",
              "</div>"
            ],
            "text/plain": [
              "   Open  High   Low  ...  Weighted_Price           Date_Time  Month\n",
              "0  4.39  4.39  4.39  ...            4.39 2011-12-31 07:52:00     12\n",
              "1   NaN   NaN   NaN  ...             NaN 2011-12-31 07:53:00     12\n",
              "2   NaN   NaN   NaN  ...             NaN 2011-12-31 07:54:00     12\n",
              "3   NaN   NaN   NaN  ...             NaN 2011-12-31 07:55:00     12\n",
              "4   NaN   NaN   NaN  ...             NaN 2011-12-31 07:56:00     12\n",
              "\n",
              "[5 rows x 9 columns]"
            ]
          },
          "metadata": {},
          "execution_count": 13
        }
      ]
    },
    {
      "cell_type": "markdown",
      "metadata": {
        "id": "GAYamKaEVXp1"
      },
      "source": [
        "###  D.1 Read Parquet file\n",
        "    \n",
        "<p align=\"justify\">\n",
        "<font size=\"3\">\n",
        "Here you can see now the the Spark DataFrame is created from Parquet data.\n",
        "</font>\n",
        "</p>"
      ]
    },
    {
      "cell_type": "code",
      "metadata": {
        "id": "6C0iA8SqVXp2",
        "colab": {
          "base_uri": "https://localhost:8080/"
        },
        "outputId": "65f12e2a-026f-47d0-da29-cd7d221fb116"
      },
      "source": [
        "df_parquet = spark.read.parquet(\"BTC/\")\n",
        "print(\"reading done\")"
      ],
      "execution_count": 14,
      "outputs": [
        {
          "output_type": "stream",
          "name": "stdout",
          "text": [
            "reading done\n"
          ]
        }
      ]
    },
    {
      "cell_type": "markdown",
      "metadata": {
        "id": "cjH0cqC5VXp2"
      },
      "source": [
        "## <strong>Exercise 6</strong>. Verify number of columns and count the number of rows (2 points)\n",
        "    \n",
        "<p align=\"justify\">\n",
        "Maybe you have not noticed that the volume of the data we are treating is not as small as it seems. Count the number of rows in the dataframe.\n",
        "<font size=\"3\">\n",
        "</font>\n",
        "</p>"
      ]
    },
    {
      "cell_type": "code",
      "metadata": {
        "id": "nYqK9VD8VXp2",
        "colab": {
          "base_uri": "https://localhost:8080/"
        },
        "outputId": "a87e6a9c-7ad8-47a7-b869-14459536e029"
      },
      "source": [
        "count = df_parquet.count()\n",
        "print(count)\n",
        "\n",
        "#######################\n",
        "# Expected output:\n",
        "# 4857377"
      ],
      "execution_count": 15,
      "outputs": [
        {
          "output_type": "stream",
          "name": "stdout",
          "text": [
            "4857377\n"
          ]
        }
      ]
    },
    {
      "cell_type": "code",
      "metadata": {
        "colab": {
          "base_uri": "https://localhost:8080/"
        },
        "id": "YNjcqJIT1YMd",
        "outputId": "c20046f5-d2e7-402d-9c58-2b0be34f3af2"
      },
      "source": [
        "len(df_parquet.columns)"
      ],
      "execution_count": 16,
      "outputs": [
        {
          "output_type": "execute_result",
          "data": {
            "text/plain": [
              "10"
            ]
          },
          "metadata": {},
          "execution_count": 16
        }
      ]
    },
    {
      "cell_type": "markdown",
      "metadata": {
        "id": "iVTReOl91YMd"
      },
      "source": [
        "So, the DataFrame has 4,857,377 rows and 10 columns. We can also check its schema."
      ]
    },
    {
      "cell_type": "code",
      "metadata": {
        "id": "ZJVbEunCVXp2",
        "colab": {
          "base_uri": "https://localhost:8080/"
        },
        "outputId": "e650598e-2100-43a5-e3c9-8c5251111d2f"
      },
      "source": [
        "df_parquet.printSchema()"
      ],
      "execution_count": 17,
      "outputs": [
        {
          "output_type": "stream",
          "name": "stdout",
          "text": [
            "root\n",
            " |-- Open: double (nullable = true)\n",
            " |-- High: double (nullable = true)\n",
            " |-- Low: double (nullable = true)\n",
            " |-- Close: double (nullable = true)\n",
            " |-- Volume_BTC: double (nullable = true)\n",
            " |-- Volume_Currency: double (nullable = true)\n",
            " |-- Weighted_Price: double (nullable = true)\n",
            " |-- Date_Time: timestamp (nullable = true)\n",
            " |-- Year: integer (nullable = true)\n",
            " |-- Month: integer (nullable = true)\n",
            "\n"
          ]
        }
      ]
    },
    {
      "cell_type": "markdown",
      "metadata": {
        "id": "SoAfjdAuVXp3"
      },
      "source": [
        "# E. Statistics\n",
        "\n",
        "<p align=\"justify\">\n",
        "<font size=\"3\">\n",
        "We want to calculate descriptive statistics on the bitcoin by month/year.\n",
        "\n",
        "The computed statistics will be stored in a DataFrame having this schema\n",
        "<ul>\n",
        "     <li>   Mean_Vol  : double </li>\n",
        "     <li>   Std_Vol   : double </li>\n",
        "     <li>   Min_Vol   : double </li>\n",
        "     <li>   Max_vol   : double </li>\n",
        "     <li>   Year      : int </li>\n",
        "     <li>   Month     : int </li>\n",
        "  \n",
        "</ul>\n",
        "\n",
        "In this exercise you will develop two different methodologies to compute the statistics:\n",
        "<ul>\n",
        "    <li>   using the <code>applyInPandas()</code> Pyspark function and the Pandas functions </li>\n",
        "     <li>  only using the Pyspark functionnalities </li>\n",
        "</ul>\n",
        "The statistics computed should be stored in a Pandas DataFrame with both approaches.\n",
        "</font>\n",
        "</p>"
      ]
    },
    {
      "cell_type": "markdown",
      "metadata": {
        "id": "Gts_hy5HVXp4"
      },
      "source": [
        "## E.1. Spark applyInPandas\n",
        "<p align=\"justify\">\n",
        "<font size=\"3\">\n",
        "The solution with <code>applyInPandas</code>\n",
        "</font>\n",
        "</p>"
      ]
    },
    {
      "cell_type": "code",
      "metadata": {
        "id": "icjKlPHcVXp4"
      },
      "source": [
        "def compute_stats(key,df):\n",
        "    res = df[\"Volume_BTC\"].describe()\n",
        "    res_dict = {}\n",
        "    for index, value in res.items():\n",
        "        if index == \"mean\":\n",
        "            res_dict[\"Mean_Vol\"] = value\n",
        "        elif index == \"std\":\n",
        "            res_dict[\"Std_Vol\"] = value\n",
        "        elif index == \"min\":\n",
        "            res_dict[\"Min_Vol\"] = value\n",
        "        elif index == \"max\":\n",
        "            res_dict[\"Max_Vol\"] = value\n",
        "\n",
        "    final =  pd.DataFrame([res_dict])\n",
        "    final[\"Year\"]  = key[0]\n",
        "    final[\"Month\"] = key[1]\n",
        "    return final"
      ],
      "execution_count": 18,
      "outputs": []
    },
    {
      "cell_type": "markdown",
      "metadata": {
        "id": "JsqKcxxNVXp4"
      },
      "source": [
        "### <strong>Exercise 7</strong>. The two parameters of the Python function (2 points)\n",
        "\n",
        "Explain in detail how the <code>applyInPandas(func, schema)</code> works and describe what the $key$ and the $df$ will contain in our example."
      ]
    },
    {
      "cell_type": "markdown",
      "metadata": {
        "id": "99_WnUHTVXp5"
      },
      "source": [
        "According to the documentation, each group of a grouped Spark DataFrame is passed as a pandas.DataFrame to a user-defined function <code>func</code>. The returned pandas.DataFrame objects (corresponding to each group) are combined into a single DataFrame, and the result is returned. It should be noted that the function requires a full shuffle; thus, all the data of a group will be loaded into memory.\n",
        "\n",
        "The <code>schema</code> will determine the return type of the <code>func</code>. Said otherwise, <code>schema</code> shows the data type of the columns of the returned Spark DataFrame.\n",
        "\n",
        "If a user-defined function takes two arguments, the grouping key(s) will be passed as the first argument, and the data will be passed as the second argument. The grouping key(s) will be passed as a tuple of numpy data types, and the data will be passed in as a pandas.DataFrame. In our example, the <code>key</code> is a tuple of (year, month) and the <code>df</code> is a pandas.DataFrame for each year-month group."
      ]
    },
    {
      "cell_type": "markdown",
      "metadata": {
        "id": "shVh5lBcVXp5"
      },
      "source": [
        "### <strong>Exercise 8</strong>. The two parameters in action (1 point)\n",
        "<p align=\"justify\">\n",
        "<font size=\"3\">\n",
        "Compute the statistics using then the <code>applyInPandas</code> and the provided functions. \n",
        "\n",
        "</font>\n",
        "</p>"
      ]
    },
    {
      "cell_type": "code",
      "metadata": {
        "id": "IebDul7NVXp6",
        "colab": {
          "base_uri": "https://localhost:8080/"
        },
        "outputId": "b89cfe89-1857-49cd-ce77-668ec51c2e60"
      },
      "source": [
        "%%time\n",
        "schema = \"Mean_Vol double, Std_Vol double, Min_Vol double, Max_Vol double, Year int, Month int\"\n",
        "stats_df = df_parquet.groupby(\"Year\", \"Month\")\\\n",
        "                     .applyInPandas(compute_stats, schema)\n",
        "stats_df.show(5)\n",
        "\n",
        "####### EXPECTED OUTPUT\n",
        "#+------------------+------------------+----------+------------+----+-----+\n",
        "#|          Mean_Vol|           Std_Vol|   Min_Vol|     Max_Vol|Year|Month|\n",
        "#+------------------+------------------+----------+------------+----+-----+\n",
        "#| 20.39613620802532| 54.24699556644988|    9.4E-5|2258.8231405|2012|   10|\n",
        "#|12.095179597807542|44.149334198665166| 2.0452E-4|2037.2239038|2015|    2|\n",
        "#| 6.147061206279663|17.745599117954125|0.00127783|564.21436237|2019|   10|\n",
        "#| 8.468866447160776|  28.9837002907642|    1.0E-8|1616.0600006|2017|    3|\n",
        "#| 8.684880075589284| 17.69646210434965|       0.0|533.10078293|2017|    8|\n",
        "#+------------------+------------------+----------+------------+----+-----+"
      ],
      "execution_count": 19,
      "outputs": [
        {
          "output_type": "stream",
          "name": "stdout",
          "text": [
            "+------------------+------------------+----------+------------+----+-----+\n",
            "|          Mean_Vol|           Std_Vol|   Min_Vol|     Max_Vol|Year|Month|\n",
            "+------------------+------------------+----------+------------+----+-----+\n",
            "| 20.39613620802532| 54.24699556644988|    9.4E-5|2258.8231405|2012|   10|\n",
            "|12.095179597807542|44.149334198665166| 2.0452E-4|2037.2239038|2015|    2|\n",
            "| 6.147061206279663|17.745599117954125|0.00127783|564.21436237|2019|   10|\n",
            "| 8.468866447160776|  28.9837002907642|    1.0E-8|1616.0600006|2017|    3|\n",
            "| 8.684880075589284| 17.69646210434965|       0.0|533.10078293|2017|    8|\n",
            "+------------------+------------------+----------+------------+----+-----+\n",
            "only showing top 5 rows\n",
            "\n",
            "CPU times: user 103 ms, sys: 20.9 ms, total: 123 ms\n",
            "Wall time: 17 s\n"
          ]
        }
      ]
    },
    {
      "cell_type": "markdown",
      "metadata": {
        "id": "C6Pdf1N-VXp6"
      },
      "source": [
        "### <strong>Exercise 9</strong>. The statsdf DataFrame (1 point)\n",
        "<p align=\"justify\">\n",
        "<font size=\"3\">\n",
        "Which kind of DataFrame is <code>stats_df</code>?\n",
        "</font>\n",
        "</p>"
      ]
    },
    {
      "cell_type": "code",
      "metadata": {
        "colab": {
          "base_uri": "https://localhost:8080/"
        },
        "id": "TrIgiGeF1YMf",
        "outputId": "5acd3816-bc86-454b-daed-61d1a7ab009a"
      },
      "source": [
        "type(stats_df)"
      ],
      "execution_count": 20,
      "outputs": [
        {
          "output_type": "execute_result",
          "data": {
            "text/plain": [
              "pyspark.sql.dataframe.DataFrame"
            ]
          },
          "metadata": {},
          "execution_count": 20
        }
      ]
    },
    {
      "cell_type": "markdown",
      "metadata": {
        "id": "RbXKRuBEVXp6"
      },
      "source": [
        "As we can see, the given DataFrame is just a Spark DataFrame."
      ]
    },
    {
      "cell_type": "markdown",
      "metadata": {
        "id": "lgGmWPhSVXp7"
      },
      "source": [
        "### <strong>Exercise 10</strong>. DataFrame in Pandas (2 points)\n",
        "\n",
        "<p align=\"justify\">\n",
        "<font size=\"3\">\n",
        "Since we computed descriptive statistics by month/year, the results are small. (We have only one row for each month.) Therefore, we can get and handle all the results in memory in Pandas. Notice that Spark uses lazy evaluation; thus, we need the <code>toPandas</code> action to trigger the computation.    \n",
        "</font>\n",
        "</p>"
      ]
    },
    {
      "cell_type": "code",
      "metadata": {
        "id": "Ve6u_nzSVXp8",
        "colab": {
          "base_uri": "https://localhost:8080/",
          "height": 359
        },
        "outputId": "58f8aba0-4f7f-4a9d-c087-ab97209f2f1b"
      },
      "source": [
        "stats_pandas = stats_df.toPandas()\n",
        "stats_pandas.head(10)\n",
        "\n",
        "#######################\n",
        "# Expected output:\n",
        "#\tMean_Vol\tStd_Vol\tMin_Vol\tMax_Vol\tYear\tMonth\n",
        "#0\t20.396136\t54.246996\t9.400000e-05\t2258.823141\t2012\t10\n",
        "#1\t12.095180\t44.149334\t2.045200e-04\t2037.223904\t2015\t2\n",
        "#2\t6.147061\t17.745599\t1.277830e-03\t564.214362\t2019\t10\n",
        "#3\t8.468866\t28.983700\t1.000000e-08\t1616.060001\t2017\t3\n",
        "#4\t8.684880\t17.696462\t0.000000e+00\t533.100783\t2017\t8\n",
        "#5\t16.040933\t57.641501\t2.044000e-05\t4111.876106\t2014\t4\n",
        "#6\t4.984386\t18.903445\t1.054000e-05\t822.866974\t2020\t6\n",
        "#7\t8.331579\t18.350084\t5.758000e-04\t806.636224\t2019\t5\n",
        "#8\t8.621910\t18.820399\t4.047000e-04\t602.282607\t2017\t10\n",
        "#9\t3.106413\t10.738051\t3.300000e-06\t582.564185\t2018\t10"
      ],
      "execution_count": 21,
      "outputs": [
        {
          "output_type": "execute_result",
          "data": {
            "text/html": [
              "<div>\n",
              "<style scoped>\n",
              "    .dataframe tbody tr th:only-of-type {\n",
              "        vertical-align: middle;\n",
              "    }\n",
              "\n",
              "    .dataframe tbody tr th {\n",
              "        vertical-align: top;\n",
              "    }\n",
              "\n",
              "    .dataframe thead th {\n",
              "        text-align: right;\n",
              "    }\n",
              "</style>\n",
              "<table border=\"1\" class=\"dataframe\">\n",
              "  <thead>\n",
              "    <tr style=\"text-align: right;\">\n",
              "      <th></th>\n",
              "      <th>Mean_Vol</th>\n",
              "      <th>Std_Vol</th>\n",
              "      <th>Min_Vol</th>\n",
              "      <th>Max_Vol</th>\n",
              "      <th>Year</th>\n",
              "      <th>Month</th>\n",
              "    </tr>\n",
              "  </thead>\n",
              "  <tbody>\n",
              "    <tr>\n",
              "      <th>0</th>\n",
              "      <td>20.396136</td>\n",
              "      <td>54.246996</td>\n",
              "      <td>9.400000e-05</td>\n",
              "      <td>2258.823141</td>\n",
              "      <td>2012</td>\n",
              "      <td>10</td>\n",
              "    </tr>\n",
              "    <tr>\n",
              "      <th>1</th>\n",
              "      <td>12.095180</td>\n",
              "      <td>44.149334</td>\n",
              "      <td>2.045200e-04</td>\n",
              "      <td>2037.223904</td>\n",
              "      <td>2015</td>\n",
              "      <td>2</td>\n",
              "    </tr>\n",
              "    <tr>\n",
              "      <th>2</th>\n",
              "      <td>6.147061</td>\n",
              "      <td>17.745599</td>\n",
              "      <td>1.277830e-03</td>\n",
              "      <td>564.214362</td>\n",
              "      <td>2019</td>\n",
              "      <td>10</td>\n",
              "    </tr>\n",
              "    <tr>\n",
              "      <th>3</th>\n",
              "      <td>8.468866</td>\n",
              "      <td>28.983700</td>\n",
              "      <td>1.000000e-08</td>\n",
              "      <td>1616.060001</td>\n",
              "      <td>2017</td>\n",
              "      <td>3</td>\n",
              "    </tr>\n",
              "    <tr>\n",
              "      <th>4</th>\n",
              "      <td>8.684880</td>\n",
              "      <td>17.696462</td>\n",
              "      <td>0.000000e+00</td>\n",
              "      <td>533.100783</td>\n",
              "      <td>2017</td>\n",
              "      <td>8</td>\n",
              "    </tr>\n",
              "    <tr>\n",
              "      <th>5</th>\n",
              "      <td>16.040933</td>\n",
              "      <td>57.641501</td>\n",
              "      <td>2.044000e-05</td>\n",
              "      <td>4111.876106</td>\n",
              "      <td>2014</td>\n",
              "      <td>4</td>\n",
              "    </tr>\n",
              "    <tr>\n",
              "      <th>6</th>\n",
              "      <td>4.984386</td>\n",
              "      <td>18.903445</td>\n",
              "      <td>1.054000e-05</td>\n",
              "      <td>822.866974</td>\n",
              "      <td>2020</td>\n",
              "      <td>6</td>\n",
              "    </tr>\n",
              "    <tr>\n",
              "      <th>7</th>\n",
              "      <td>8.331579</td>\n",
              "      <td>18.350084</td>\n",
              "      <td>5.758000e-04</td>\n",
              "      <td>806.636224</td>\n",
              "      <td>2019</td>\n",
              "      <td>5</td>\n",
              "    </tr>\n",
              "    <tr>\n",
              "      <th>8</th>\n",
              "      <td>8.621910</td>\n",
              "      <td>18.820399</td>\n",
              "      <td>4.047000e-04</td>\n",
              "      <td>602.282607</td>\n",
              "      <td>2017</td>\n",
              "      <td>10</td>\n",
              "    </tr>\n",
              "    <tr>\n",
              "      <th>9</th>\n",
              "      <td>3.106413</td>\n",
              "      <td>10.738051</td>\n",
              "      <td>3.300000e-06</td>\n",
              "      <td>582.564185</td>\n",
              "      <td>2018</td>\n",
              "      <td>10</td>\n",
              "    </tr>\n",
              "  </tbody>\n",
              "</table>\n",
              "</div>"
            ],
            "text/plain": [
              "    Mean_Vol    Std_Vol       Min_Vol      Max_Vol  Year  Month\n",
              "0  20.396136  54.246996  9.400000e-05  2258.823141  2012     10\n",
              "1  12.095180  44.149334  2.045200e-04  2037.223904  2015      2\n",
              "2   6.147061  17.745599  1.277830e-03   564.214362  2019     10\n",
              "3   8.468866  28.983700  1.000000e-08  1616.060001  2017      3\n",
              "4   8.684880  17.696462  0.000000e+00   533.100783  2017      8\n",
              "5  16.040933  57.641501  2.044000e-05  4111.876106  2014      4\n",
              "6   4.984386  18.903445  1.054000e-05   822.866974  2020      6\n",
              "7   8.331579  18.350084  5.758000e-04   806.636224  2019      5\n",
              "8   8.621910  18.820399  4.047000e-04   602.282607  2017     10\n",
              "9   3.106413  10.738051  3.300000e-06   582.564185  2018     10"
            ]
          },
          "metadata": {},
          "execution_count": 21
        }
      ]
    },
    {
      "cell_type": "markdown",
      "metadata": {
        "id": "LX4X2ioqVXp8"
      },
      "source": [
        "###  <strong>Exercise 11</strong>. Show the stats of the stats (1 point)\n",
        "\n",
        "\n",
        "<p align=\"justify\">\n",
        "<font size=\"3\">\n",
        "We want to calculate the statistics of the bitcoin by month for all the years.\n",
        "\n",
        "The computed statistics will be stored in a DataFrame having this schema\n",
        "<ul>\n",
        "     <li>   the min of the set min values </li>\n",
        "     <li>   the mean of the set of mean values </li>\n",
        "     <li>   ... </li> \n",
        "</ul>\n",
        "\n",
        "\n",
        "    \n",
        "</font>\n",
        "</p>\n"
      ]
    },
    {
      "cell_type": "code",
      "metadata": {
        "id": "4FFQDxOyVXp8",
        "colab": {
          "base_uri": "https://localhost:8080/"
        },
        "outputId": "8d9d5924-07ee-470f-a2c8-1441bf7124a0"
      },
      "source": [
        "# stats_pandas.describe()\\\n",
        "#     .drop(labels=[\"25%\", \"50%\", \"75%\"], axis=\"index\")\\\n",
        "#     .rename(index={'std': 'stddev'})\n",
        "\n",
        "stats_df.describe().show()\n",
        "\n",
        "#######################\n",
        "# Expected output:\n",
        "#+-------+------------------+------------------+--------------------+------------------+------------------+------------------+\n",
        "#|summary|          Mean_Vol|           Std_Vol|             Min_Vol|           Max_Vol|              Year|             Month|\n",
        "#+-------+------------------+------------------+--------------------+------------------+------------------+------------------+\n",
        "#|  count|               112|               112|                 112|               112|               112|               112|\n",
        "#|   mean|10.782191354847754|28.871463944232485|0.004551177678571...|1067.2847720235718|2016.0892857142858| 6.428571428571429|\n",
        "#| stddev| 6.488551661205522| 18.11344145463867|0.043048607639448476| 895.8083462469303|2.7164947320662614|3.5252353718985097|\n",
        "#|    min| 2.929999689326444| 6.490701567379118|                 0.0|       43.31219578|              2011|                 1|\n",
        "#|    max|31.504423573146152|106.97606692383131|          0.45558087|      5853.8521659|              2021|                12|\n",
        "#+-------+------------------+------------------+--------------------+------------------+------------------+------------------+\n"
      ],
      "execution_count": 22,
      "outputs": [
        {
          "output_type": "stream",
          "name": "stdout",
          "text": [
            "+-------+------------------+------------------+--------------------+------------------+------------------+------------------+\n",
            "|summary|          Mean_Vol|           Std_Vol|             Min_Vol|           Max_Vol|              Year|             Month|\n",
            "+-------+------------------+------------------+--------------------+------------------+------------------+------------------+\n",
            "|  count|               112|               112|                 112|               112|               112|               112|\n",
            "|   mean|10.782191354847754|28.871463944232485|0.004551177678571...|1067.2847720235718|2016.0892857142858| 6.428571428571429|\n",
            "| stddev| 6.488551661205522| 18.11344145463867|0.043048607639448476| 895.8083462469303|2.7164947320662614|3.5252353718985097|\n",
            "|    min| 2.929999689326444| 6.490701567379118|                 0.0|       43.31219578|              2011|                 1|\n",
            "|    max|31.504423573146152|106.97606692383131|          0.45558087|      5853.8521659|              2021|                12|\n",
            "+-------+------------------+------------------+--------------------+------------------+------------------+------------------+\n",
            "\n"
          ]
        }
      ]
    },
    {
      "cell_type": "markdown",
      "metadata": {
        "id": "_wtYR3CaVXp8"
      },
      "source": [
        "# F. Plotting and equivalence \n",
        "<p align=\"justify\">\n",
        "<font size=\"3\">\n",
        "We want to plot the results of the statistics by year and month using <code>Plotly</code>.\n",
        "</font>\n",
        "</p>\n",
        "\n"
      ]
    },
    {
      "cell_type": "code",
      "metadata": {
        "id": "5E1eQmpJVXp9",
        "colab": {
          "base_uri": "https://localhost:8080/",
          "height": 17
        },
        "outputId": "8afabd7c-3f90-403f-b4c7-7287c2789178"
      },
      "source": [
        "init_notebook_mode(connected=True)"
      ],
      "execution_count": 23,
      "outputs": [
        {
          "output_type": "display_data",
          "data": {
            "text/html": [
              "        <script type=\"text/javascript\">\n",
              "        window.PlotlyConfig = {MathJaxConfig: 'local'};\n",
              "        if (window.MathJax) {MathJax.Hub.Config({SVG: {font: \"STIX-Web\"}});}\n",
              "        if (typeof require !== 'undefined') {\n",
              "        require.undef(\"plotly\");\n",
              "        requirejs.config({\n",
              "            paths: {\n",
              "                'plotly': ['https://cdn.plot.ly/plotly-latest.min']\n",
              "            }\n",
              "        });\n",
              "        require(['plotly'], function(Plotly) {\n",
              "            window._Plotly = Plotly;\n",
              "        });\n",
              "        }\n",
              "        </script>\n",
              "        "
            ]
          },
          "metadata": {}
        }
      ]
    },
    {
      "cell_type": "code",
      "metadata": {
        "id": "wlyn4HLZVXp9"
      },
      "source": [
        "def get_date_from_year_month(df):\n",
        "    df[\"Date\"] = pd.to_datetime(\n",
        "        df['Year'].astype(str) + '-' + df['Month'].astype(str), format='%Y-%m')     "
      ],
      "execution_count": 24,
      "outputs": []
    },
    {
      "cell_type": "code",
      "metadata": {
        "id": "mS9hH6hHVXp9",
        "colab": {
          "base_uri": "https://localhost:8080/"
        },
        "outputId": "fe2e3fe1-480b-433c-ac4d-f4ab14c0220a"
      },
      "source": [
        "print(stats_pandas.columns)\n",
        "get_date_from_year_month(stats_pandas)\n",
        "print(stats_pandas.columns)"
      ],
      "execution_count": 25,
      "outputs": [
        {
          "output_type": "stream",
          "name": "stdout",
          "text": [
            "Index(['Mean_Vol', 'Std_Vol', 'Min_Vol', 'Max_Vol', 'Year', 'Month'], dtype='object')\n",
            "Index(['Mean_Vol', 'Std_Vol', 'Min_Vol', 'Max_Vol', 'Year', 'Month', 'Date'], dtype='object')\n"
          ]
        }
      ]
    },
    {
      "cell_type": "code",
      "metadata": {
        "colab": {
          "base_uri": "https://localhost:8080/",
          "height": 419
        },
        "id": "6KelSt2S9Qmi",
        "outputId": "8e0c9c5d-6b24-464f-fd2f-2ced9b88d4f0"
      },
      "source": [
        "stats_pandas.sort_values(by=\"Date\", inplace=True)\n",
        "stats_pandas.reset_index(inplace=True, drop=True)\n",
        "stats_pandas"
      ],
      "execution_count": 26,
      "outputs": [
        {
          "output_type": "execute_result",
          "data": {
            "text/html": [
              "<div>\n",
              "<style scoped>\n",
              "    .dataframe tbody tr th:only-of-type {\n",
              "        vertical-align: middle;\n",
              "    }\n",
              "\n",
              "    .dataframe tbody tr th {\n",
              "        vertical-align: top;\n",
              "    }\n",
              "\n",
              "    .dataframe thead th {\n",
              "        text-align: right;\n",
              "    }\n",
              "</style>\n",
              "<table border=\"1\" class=\"dataframe\">\n",
              "  <thead>\n",
              "    <tr style=\"text-align: right;\">\n",
              "      <th></th>\n",
              "      <th>Mean_Vol</th>\n",
              "      <th>Std_Vol</th>\n",
              "      <th>Min_Vol</th>\n",
              "      <th>Max_Vol</th>\n",
              "      <th>Year</th>\n",
              "      <th>Month</th>\n",
              "      <th>Date</th>\n",
              "    </tr>\n",
              "  </thead>\n",
              "  <tbody>\n",
              "    <tr>\n",
              "      <th>0</th>\n",
              "      <td>23.829470</td>\n",
              "      <td>22.711133</td>\n",
              "      <td>0.455581</td>\n",
              "      <td>48.000000</td>\n",
              "      <td>2011</td>\n",
              "      <td>12</td>\n",
              "      <td>2011-12-01</td>\n",
              "    </tr>\n",
              "    <tr>\n",
              "      <th>1</th>\n",
              "      <td>4.031777</td>\n",
              "      <td>6.740555</td>\n",
              "      <td>0.020000</td>\n",
              "      <td>43.312196</td>\n",
              "      <td>2012</td>\n",
              "      <td>1</td>\n",
              "      <td>2012-01-01</td>\n",
              "    </tr>\n",
              "    <tr>\n",
              "      <th>2</th>\n",
              "      <td>8.313993</td>\n",
              "      <td>11.924511</td>\n",
              "      <td>0.003138</td>\n",
              "      <td>92.654874</td>\n",
              "      <td>2012</td>\n",
              "      <td>2</td>\n",
              "      <td>2012-02-01</td>\n",
              "    </tr>\n",
              "    <tr>\n",
              "      <th>3</th>\n",
              "      <td>15.197791</td>\n",
              "      <td>26.505990</td>\n",
              "      <td>0.002096</td>\n",
              "      <td>247.560124</td>\n",
              "      <td>2012</td>\n",
              "      <td>3</td>\n",
              "      <td>2012-03-01</td>\n",
              "    </tr>\n",
              "    <tr>\n",
              "      <th>4</th>\n",
              "      <td>21.683913</td>\n",
              "      <td>36.393538</td>\n",
              "      <td>0.001276</td>\n",
              "      <td>300.516098</td>\n",
              "      <td>2012</td>\n",
              "      <td>4</td>\n",
              "      <td>2012-04-01</td>\n",
              "    </tr>\n",
              "    <tr>\n",
              "      <th>...</th>\n",
              "      <td>...</td>\n",
              "      <td>...</td>\n",
              "      <td>...</td>\n",
              "      <td>...</td>\n",
              "      <td>...</td>\n",
              "      <td>...</td>\n",
              "      <td>...</td>\n",
              "    </tr>\n",
              "    <tr>\n",
              "      <th>107</th>\n",
              "      <td>6.695166</td>\n",
              "      <td>12.974320</td>\n",
              "      <td>0.001542</td>\n",
              "      <td>360.652808</td>\n",
              "      <td>2020</td>\n",
              "      <td>11</td>\n",
              "      <td>2020-11-01</td>\n",
              "    </tr>\n",
              "    <tr>\n",
              "      <th>108</th>\n",
              "      <td>5.742400</td>\n",
              "      <td>10.432593</td>\n",
              "      <td>0.001030</td>\n",
              "      <td>358.619032</td>\n",
              "      <td>2020</td>\n",
              "      <td>12</td>\n",
              "      <td>2020-12-01</td>\n",
              "    </tr>\n",
              "    <tr>\n",
              "      <th>109</th>\n",
              "      <td>10.253061</td>\n",
              "      <td>16.947097</td>\n",
              "      <td>0.000002</td>\n",
              "      <td>398.565948</td>\n",
              "      <td>2021</td>\n",
              "      <td>1</td>\n",
              "      <td>2021-01-01</td>\n",
              "    </tr>\n",
              "    <tr>\n",
              "      <th>110</th>\n",
              "      <td>5.965070</td>\n",
              "      <td>10.971809</td>\n",
              "      <td>0.000443</td>\n",
              "      <td>248.504517</td>\n",
              "      <td>2021</td>\n",
              "      <td>2</td>\n",
              "      <td>2021-02-01</td>\n",
              "    </tr>\n",
              "    <tr>\n",
              "      <th>111</th>\n",
              "      <td>3.555766</td>\n",
              "      <td>6.490702</td>\n",
              "      <td>0.000016</td>\n",
              "      <td>164.425570</td>\n",
              "      <td>2021</td>\n",
              "      <td>3</td>\n",
              "      <td>2021-03-01</td>\n",
              "    </tr>\n",
              "  </tbody>\n",
              "</table>\n",
              "<p>112 rows × 7 columns</p>\n",
              "</div>"
            ],
            "text/plain": [
              "      Mean_Vol    Std_Vol   Min_Vol     Max_Vol  Year  Month       Date\n",
              "0    23.829470  22.711133  0.455581   48.000000  2011     12 2011-12-01\n",
              "1     4.031777   6.740555  0.020000   43.312196  2012      1 2012-01-01\n",
              "2     8.313993  11.924511  0.003138   92.654874  2012      2 2012-02-01\n",
              "3    15.197791  26.505990  0.002096  247.560124  2012      3 2012-03-01\n",
              "4    21.683913  36.393538  0.001276  300.516098  2012      4 2012-04-01\n",
              "..         ...        ...       ...         ...   ...    ...        ...\n",
              "107   6.695166  12.974320  0.001542  360.652808  2020     11 2020-11-01\n",
              "108   5.742400  10.432593  0.001030  358.619032  2020     12 2020-12-01\n",
              "109  10.253061  16.947097  0.000002  398.565948  2021      1 2021-01-01\n",
              "110   5.965070  10.971809  0.000443  248.504517  2021      2 2021-02-01\n",
              "111   3.555766   6.490702  0.000016  164.425570  2021      3 2021-03-01\n",
              "\n",
              "[112 rows x 7 columns]"
            ]
          },
          "metadata": {},
          "execution_count": 26
        }
      ]
    },
    {
      "cell_type": "code",
      "metadata": {
        "id": "UunBZ10kVXp-",
        "colab": {
          "base_uri": "https://localhost:8080/",
          "height": 1000
        },
        "outputId": "b9832a2f-6b19-44ab-a1df-ab5c51f00889"
      },
      "source": [
        "mean_vol_trac = {\n",
        "    \"x\": stats_pandas.Date,\n",
        "    \"y\": stats_pandas[\"Mean_Vol\"],\n",
        "}\n",
        "\n",
        "layout = {\n",
        "  \"height\":1000,\n",
        "  \"showlegend\": True, \n",
        "  \"title\": \"Average Volume by Month of BTC\",\n",
        "}\n",
        "\n",
        "fig = go.Figure(data=[mean_vol_trac], layout=layout)\n",
        "fig.show(renderer=\"colab\")"
      ],
      "execution_count": 27,
      "outputs": [
        {
          "output_type": "display_data",
          "data": {
            "text/html": [
              "<html>\n",
              "<head><meta charset=\"utf-8\" /></head>\n",
              "<body>\n",
              "    <div>\n",
              "            <script src=\"https://cdnjs.cloudflare.com/ajax/libs/mathjax/2.7.5/MathJax.js?config=TeX-AMS-MML_SVG\"></script><script type=\"text/javascript\">if (window.MathJax) {MathJax.Hub.Config({SVG: {font: \"STIX-Web\"}});}</script>\n",
              "                <script type=\"text/javascript\">window.PlotlyConfig = {MathJaxConfig: 'local'};</script>\n",
              "        <script src=\"https://cdn.plot.ly/plotly-latest.min.js\"></script>    \n",
              "            <div id=\"44a23b2f-6cad-4489-9a6e-0c0a12a0ec5c\" class=\"plotly-graph-div\" style=\"height:1000px; width:100%;\"></div>\n",
              "            <script type=\"text/javascript\">\n",
              "                \n",
              "                    window.PLOTLYENV=window.PLOTLYENV || {};\n",
              "                    \n",
              "                if (document.getElementById(\"44a23b2f-6cad-4489-9a6e-0c0a12a0ec5c\")) {\n",
              "                    Plotly.newPlot(\n",
              "                        '44a23b2f-6cad-4489-9a6e-0c0a12a0ec5c',\n",
              "                        [{\"type\": \"scatter\", \"x\": [\"2011-12-01T00:00:00\", \"2012-01-01T00:00:00\", \"2012-02-01T00:00:00\", \"2012-03-01T00:00:00\", \"2012-04-01T00:00:00\", \"2012-05-01T00:00:00\", \"2012-06-01T00:00:00\", \"2012-07-01T00:00:00\", \"2012-08-01T00:00:00\", \"2012-09-01T00:00:00\", \"2012-10-01T00:00:00\", \"2012-11-01T00:00:00\", \"2012-12-01T00:00:00\", \"2013-01-01T00:00:00\", \"2013-02-01T00:00:00\", \"2013-03-01T00:00:00\", \"2013-04-01T00:00:00\", \"2013-05-01T00:00:00\", \"2013-06-01T00:00:00\", \"2013-07-01T00:00:00\", \"2013-08-01T00:00:00\", \"2013-09-01T00:00:00\", \"2013-10-01T00:00:00\", \"2013-11-01T00:00:00\", \"2013-12-01T00:00:00\", \"2014-01-01T00:00:00\", \"2014-02-01T00:00:00\", \"2014-03-01T00:00:00\", \"2014-04-01T00:00:00\", \"2014-05-01T00:00:00\", \"2014-06-01T00:00:00\", \"2014-07-01T00:00:00\", \"2014-08-01T00:00:00\", \"2014-09-01T00:00:00\", \"2014-10-01T00:00:00\", \"2014-11-01T00:00:00\", \"2014-12-01T00:00:00\", \"2015-01-01T00:00:00\", \"2015-02-01T00:00:00\", \"2015-03-01T00:00:00\", \"2015-04-01T00:00:00\", \"2015-05-01T00:00:00\", \"2015-06-01T00:00:00\", \"2015-07-01T00:00:00\", \"2015-08-01T00:00:00\", \"2015-09-01T00:00:00\", \"2015-10-01T00:00:00\", \"2015-11-01T00:00:00\", \"2015-12-01T00:00:00\", \"2016-01-01T00:00:00\", \"2016-02-01T00:00:00\", \"2016-03-01T00:00:00\", \"2016-04-01T00:00:00\", \"2016-05-01T00:00:00\", \"2016-06-01T00:00:00\", \"2016-07-01T00:00:00\", \"2016-08-01T00:00:00\", \"2016-09-01T00:00:00\", \"2016-10-01T00:00:00\", \"2016-11-01T00:00:00\", \"2016-12-01T00:00:00\", \"2017-01-01T00:00:00\", \"2017-02-01T00:00:00\", \"2017-03-01T00:00:00\", \"2017-04-01T00:00:00\", \"2017-05-01T00:00:00\", \"2017-06-01T00:00:00\", \"2017-07-01T00:00:00\", \"2017-08-01T00:00:00\", \"2017-09-01T00:00:00\", \"2017-10-01T00:00:00\", \"2017-11-01T00:00:00\", \"2017-12-01T00:00:00\", \"2018-01-01T00:00:00\", \"2018-02-01T00:00:00\", \"2018-03-01T00:00:00\", \"2018-04-01T00:00:00\", \"2018-05-01T00:00:00\", \"2018-06-01T00:00:00\", \"2018-07-01T00:00:00\", \"2018-08-01T00:00:00\", \"2018-09-01T00:00:00\", \"2018-10-01T00:00:00\", \"2018-11-01T00:00:00\", \"2018-12-01T00:00:00\", \"2019-01-01T00:00:00\", \"2019-02-01T00:00:00\", \"2019-03-01T00:00:00\", \"2019-04-01T00:00:00\", \"2019-05-01T00:00:00\", \"2019-06-01T00:00:00\", \"2019-07-01T00:00:00\", \"2019-08-01T00:00:00\", \"2019-09-01T00:00:00\", \"2019-10-01T00:00:00\", \"2019-11-01T00:00:00\", \"2019-12-01T00:00:00\", \"2020-01-01T00:00:00\", \"2020-02-01T00:00:00\", \"2020-03-01T00:00:00\", \"2020-04-01T00:00:00\", \"2020-05-01T00:00:00\", \"2020-06-01T00:00:00\", \"2020-07-01T00:00:00\", \"2020-08-01T00:00:00\", \"2020-09-01T00:00:00\", \"2020-10-01T00:00:00\", \"2020-11-01T00:00:00\", \"2020-12-01T00:00:00\", \"2021-01-01T00:00:00\", \"2021-02-01T00:00:00\", \"2021-03-01T00:00:00\"], \"y\": [23.829469525, 4.03177731714571, 8.313992791715775, 15.19779132870153, 21.68391320646053, 21.529878026232875, 31.504423573146152, 19.821775148064948, 21.108184189797193, 17.130909963664912, 20.39613620802532, 22.994332247489584, 25.393411928884916, 25.635317766965905, 19.510575638143607, 13.141914549010009, 13.728768736606566, 8.001641648881225, 8.802936064237473, 15.083843922778483, 13.051274801860673, 11.753655567109227, 18.445596702925172, 23.455393200908777, 22.86041625458373, 11.431465917756713, 23.299011610773935, 13.977188748209556, 16.040932947510655, 9.89842420056817, 9.702554803075518, 5.85346341867418, 9.862860552055771, 10.265485168734626, 16.380524566873653, 13.125273572791555, 8.927907845143135, 24.96619127615837, 12.095179597807542, 9.621013826098363, 7.920318832869392, 6.745526151124772, 7.560888668291202, 12.993149730935462, 14.239493451551255, 20.06668227939124, 22.969365285195718, 25.682074137107072, 11.97093765010212, 8.648417569798296, 6.932022125881639, 4.6650504294477235, 3.6413705962881355, 5.078350332000072, 9.205655461778758, 4.758176893472882, 5.285989208830257, 3.512840968655603, 3.8868265134617004, 5.6757736277899244, 5.679777286043488, 9.348804756223664, 6.62967843001425, 8.468866447160776, 4.654838158170615, 10.931163460997142, 10.751531703734356, 10.432054173880415, 8.684880075589284, 12.210775959106755, 8.62190985005883, 11.341778934985879, 12.612500696552368, 10.443675813800903, 14.402147742312653, 10.777021769668782, 8.877617961374714, 7.081113509393229, 5.710364588645989, 5.500254688873721, 5.575129577923558, 4.112202020944691, 3.10641333322177, 8.797702086519074, 8.474854351878502, 5.142876872098554, 5.494793937757789, 4.034112666924974, 7.009112903922636, 8.331578690639343, 7.797679264135334, 8.345824200058377, 5.675777040241663, 5.085752450416156, 6.147061206279663, 4.37797702341846, 2.929999689326444, 4.565740505071182, 4.08624512104323, 10.880775078447918, 7.034759147489821, 8.806592415948444, 4.984386145704396, 4.604863331342517, 4.3983793038830905, 4.952654773267136, 4.186250845287291, 6.695165944373403, 5.742399829417891, 10.253061160241158, 5.965070442112511, 3.555766102478466]}],\n",
              "                        {\"height\": 1000, \"showlegend\": true, \"template\": {\"data\": {\"bar\": [{\"error_x\": {\"color\": \"#2a3f5f\"}, \"error_y\": {\"color\": \"#2a3f5f\"}, \"marker\": {\"line\": {\"color\": \"#E5ECF6\", \"width\": 0.5}}, \"type\": \"bar\"}], \"barpolar\": [{\"marker\": {\"line\": {\"color\": \"#E5ECF6\", \"width\": 0.5}}, \"type\": \"barpolar\"}], \"carpet\": [{\"aaxis\": {\"endlinecolor\": \"#2a3f5f\", \"gridcolor\": \"white\", \"linecolor\": \"white\", \"minorgridcolor\": \"white\", \"startlinecolor\": \"#2a3f5f\"}, \"baxis\": {\"endlinecolor\": \"#2a3f5f\", \"gridcolor\": \"white\", \"linecolor\": \"white\", \"minorgridcolor\": \"white\", \"startlinecolor\": \"#2a3f5f\"}, \"type\": \"carpet\"}], \"choropleth\": [{\"colorbar\": {\"outlinewidth\": 0, \"ticks\": \"\"}, \"type\": \"choropleth\"}], \"contour\": [{\"colorbar\": {\"outlinewidth\": 0, \"ticks\": \"\"}, \"colorscale\": [[0.0, \"#0d0887\"], [0.1111111111111111, \"#46039f\"], [0.2222222222222222, \"#7201a8\"], [0.3333333333333333, \"#9c179e\"], [0.4444444444444444, \"#bd3786\"], [0.5555555555555556, \"#d8576b\"], [0.6666666666666666, \"#ed7953\"], [0.7777777777777778, \"#fb9f3a\"], [0.8888888888888888, \"#fdca26\"], [1.0, \"#f0f921\"]], \"type\": \"contour\"}], \"contourcarpet\": [{\"colorbar\": {\"outlinewidth\": 0, \"ticks\": \"\"}, \"type\": \"contourcarpet\"}], \"heatmap\": [{\"colorbar\": {\"outlinewidth\": 0, \"ticks\": \"\"}, \"colorscale\": [[0.0, \"#0d0887\"], [0.1111111111111111, \"#46039f\"], [0.2222222222222222, \"#7201a8\"], [0.3333333333333333, \"#9c179e\"], [0.4444444444444444, \"#bd3786\"], [0.5555555555555556, \"#d8576b\"], [0.6666666666666666, \"#ed7953\"], [0.7777777777777778, \"#fb9f3a\"], [0.8888888888888888, \"#fdca26\"], [1.0, \"#f0f921\"]], \"type\": \"heatmap\"}], \"heatmapgl\": [{\"colorbar\": {\"outlinewidth\": 0, \"ticks\": \"\"}, \"colorscale\": [[0.0, \"#0d0887\"], [0.1111111111111111, \"#46039f\"], [0.2222222222222222, \"#7201a8\"], [0.3333333333333333, \"#9c179e\"], [0.4444444444444444, \"#bd3786\"], [0.5555555555555556, \"#d8576b\"], [0.6666666666666666, \"#ed7953\"], [0.7777777777777778, \"#fb9f3a\"], [0.8888888888888888, \"#fdca26\"], [1.0, \"#f0f921\"]], \"type\": \"heatmapgl\"}], \"histogram\": [{\"marker\": {\"colorbar\": {\"outlinewidth\": 0, \"ticks\": \"\"}}, \"type\": \"histogram\"}], \"histogram2d\": [{\"colorbar\": {\"outlinewidth\": 0, \"ticks\": \"\"}, \"colorscale\": [[0.0, \"#0d0887\"], [0.1111111111111111, \"#46039f\"], [0.2222222222222222, \"#7201a8\"], [0.3333333333333333, \"#9c179e\"], [0.4444444444444444, \"#bd3786\"], [0.5555555555555556, \"#d8576b\"], [0.6666666666666666, \"#ed7953\"], [0.7777777777777778, \"#fb9f3a\"], [0.8888888888888888, \"#fdca26\"], [1.0, \"#f0f921\"]], \"type\": \"histogram2d\"}], \"histogram2dcontour\": [{\"colorbar\": {\"outlinewidth\": 0, \"ticks\": \"\"}, \"colorscale\": [[0.0, \"#0d0887\"], [0.1111111111111111, \"#46039f\"], [0.2222222222222222, \"#7201a8\"], [0.3333333333333333, \"#9c179e\"], [0.4444444444444444, \"#bd3786\"], [0.5555555555555556, \"#d8576b\"], [0.6666666666666666, \"#ed7953\"], [0.7777777777777778, \"#fb9f3a\"], [0.8888888888888888, \"#fdca26\"], [1.0, \"#f0f921\"]], \"type\": \"histogram2dcontour\"}], \"mesh3d\": [{\"colorbar\": {\"outlinewidth\": 0, \"ticks\": \"\"}, \"type\": \"mesh3d\"}], \"parcoords\": [{\"line\": {\"colorbar\": {\"outlinewidth\": 0, \"ticks\": \"\"}}, \"type\": \"parcoords\"}], \"pie\": [{\"automargin\": true, \"type\": \"pie\"}], \"scatter\": [{\"marker\": {\"colorbar\": {\"outlinewidth\": 0, \"ticks\": \"\"}}, \"type\": \"scatter\"}], \"scatter3d\": [{\"line\": {\"colorbar\": {\"outlinewidth\": 0, \"ticks\": \"\"}}, \"marker\": {\"colorbar\": {\"outlinewidth\": 0, \"ticks\": \"\"}}, \"type\": \"scatter3d\"}], \"scattercarpet\": [{\"marker\": {\"colorbar\": {\"outlinewidth\": 0, \"ticks\": \"\"}}, \"type\": \"scattercarpet\"}], \"scattergeo\": [{\"marker\": {\"colorbar\": {\"outlinewidth\": 0, \"ticks\": \"\"}}, \"type\": \"scattergeo\"}], \"scattergl\": [{\"marker\": {\"colorbar\": {\"outlinewidth\": 0, \"ticks\": \"\"}}, \"type\": \"scattergl\"}], \"scattermapbox\": [{\"marker\": {\"colorbar\": {\"outlinewidth\": 0, \"ticks\": \"\"}}, \"type\": \"scattermapbox\"}], \"scatterpolar\": [{\"marker\": {\"colorbar\": {\"outlinewidth\": 0, \"ticks\": \"\"}}, \"type\": \"scatterpolar\"}], \"scatterpolargl\": [{\"marker\": {\"colorbar\": {\"outlinewidth\": 0, \"ticks\": \"\"}}, \"type\": \"scatterpolargl\"}], \"scatterternary\": [{\"marker\": {\"colorbar\": {\"outlinewidth\": 0, \"ticks\": \"\"}}, \"type\": \"scatterternary\"}], \"surface\": [{\"colorbar\": {\"outlinewidth\": 0, \"ticks\": \"\"}, \"colorscale\": [[0.0, \"#0d0887\"], [0.1111111111111111, \"#46039f\"], [0.2222222222222222, \"#7201a8\"], [0.3333333333333333, \"#9c179e\"], [0.4444444444444444, \"#bd3786\"], [0.5555555555555556, \"#d8576b\"], [0.6666666666666666, \"#ed7953\"], [0.7777777777777778, \"#fb9f3a\"], [0.8888888888888888, \"#fdca26\"], [1.0, \"#f0f921\"]], \"type\": \"surface\"}], \"table\": [{\"cells\": {\"fill\": {\"color\": \"#EBF0F8\"}, \"line\": {\"color\": \"white\"}}, \"header\": {\"fill\": {\"color\": \"#C8D4E3\"}, \"line\": {\"color\": \"white\"}}, \"type\": \"table\"}]}, \"layout\": {\"annotationdefaults\": {\"arrowcolor\": \"#2a3f5f\", \"arrowhead\": 0, \"arrowwidth\": 1}, \"coloraxis\": {\"colorbar\": {\"outlinewidth\": 0, \"ticks\": \"\"}}, \"colorscale\": {\"diverging\": [[0, \"#8e0152\"], [0.1, \"#c51b7d\"], [0.2, \"#de77ae\"], [0.3, \"#f1b6da\"], [0.4, \"#fde0ef\"], [0.5, \"#f7f7f7\"], [0.6, \"#e6f5d0\"], [0.7, \"#b8e186\"], [0.8, \"#7fbc41\"], [0.9, \"#4d9221\"], [1, \"#276419\"]], \"sequential\": [[0.0, \"#0d0887\"], [0.1111111111111111, \"#46039f\"], [0.2222222222222222, \"#7201a8\"], [0.3333333333333333, \"#9c179e\"], [0.4444444444444444, \"#bd3786\"], [0.5555555555555556, \"#d8576b\"], [0.6666666666666666, \"#ed7953\"], [0.7777777777777778, \"#fb9f3a\"], [0.8888888888888888, \"#fdca26\"], [1.0, \"#f0f921\"]], \"sequentialminus\": [[0.0, \"#0d0887\"], [0.1111111111111111, \"#46039f\"], [0.2222222222222222, \"#7201a8\"], [0.3333333333333333, \"#9c179e\"], [0.4444444444444444, \"#bd3786\"], [0.5555555555555556, \"#d8576b\"], [0.6666666666666666, \"#ed7953\"], [0.7777777777777778, \"#fb9f3a\"], [0.8888888888888888, \"#fdca26\"], [1.0, \"#f0f921\"]]}, \"colorway\": [\"#636efa\", \"#EF553B\", \"#00cc96\", \"#ab63fa\", \"#FFA15A\", \"#19d3f3\", \"#FF6692\", \"#B6E880\", \"#FF97FF\", \"#FECB52\"], \"font\": {\"color\": \"#2a3f5f\"}, \"geo\": {\"bgcolor\": \"white\", \"lakecolor\": \"white\", \"landcolor\": \"#E5ECF6\", \"showlakes\": true, \"showland\": true, \"subunitcolor\": \"white\"}, \"hoverlabel\": {\"align\": \"left\"}, \"hovermode\": \"closest\", \"mapbox\": {\"style\": \"light\"}, \"paper_bgcolor\": \"white\", \"plot_bgcolor\": \"#E5ECF6\", \"polar\": {\"angularaxis\": {\"gridcolor\": \"white\", \"linecolor\": \"white\", \"ticks\": \"\"}, \"bgcolor\": \"#E5ECF6\", \"radialaxis\": {\"gridcolor\": \"white\", \"linecolor\": \"white\", \"ticks\": \"\"}}, \"scene\": {\"xaxis\": {\"backgroundcolor\": \"#E5ECF6\", \"gridcolor\": \"white\", \"gridwidth\": 2, \"linecolor\": \"white\", \"showbackground\": true, \"ticks\": \"\", \"zerolinecolor\": \"white\"}, \"yaxis\": {\"backgroundcolor\": \"#E5ECF6\", \"gridcolor\": \"white\", \"gridwidth\": 2, \"linecolor\": \"white\", \"showbackground\": true, \"ticks\": \"\", \"zerolinecolor\": \"white\"}, \"zaxis\": {\"backgroundcolor\": \"#E5ECF6\", \"gridcolor\": \"white\", \"gridwidth\": 2, \"linecolor\": \"white\", \"showbackground\": true, \"ticks\": \"\", \"zerolinecolor\": \"white\"}}, \"shapedefaults\": {\"line\": {\"color\": \"#2a3f5f\"}}, \"ternary\": {\"aaxis\": {\"gridcolor\": \"white\", \"linecolor\": \"white\", \"ticks\": \"\"}, \"baxis\": {\"gridcolor\": \"white\", \"linecolor\": \"white\", \"ticks\": \"\"}, \"bgcolor\": \"#E5ECF6\", \"caxis\": {\"gridcolor\": \"white\", \"linecolor\": \"white\", \"ticks\": \"\"}}, \"title\": {\"x\": 0.05}, \"xaxis\": {\"automargin\": true, \"gridcolor\": \"white\", \"linecolor\": \"white\", \"ticks\": \"\", \"title\": {\"standoff\": 15}, \"zerolinecolor\": \"white\", \"zerolinewidth\": 2}, \"yaxis\": {\"automargin\": true, \"gridcolor\": \"white\", \"linecolor\": \"white\", \"ticks\": \"\", \"title\": {\"standoff\": 15}, \"zerolinecolor\": \"white\", \"zerolinewidth\": 2}}}, \"title\": {\"text\": \"Average Volume by Month of BTC\"}},\n",
              "                        {\"responsive\": true}\n",
              "                    ).then(function(){\n",
              "                            \n",
              "var gd = document.getElementById('44a23b2f-6cad-4489-9a6e-0c0a12a0ec5c');\n",
              "var x = new MutationObserver(function (mutations, observer) {{\n",
              "        var display = window.getComputedStyle(gd).display;\n",
              "        if (!display || display === 'none') {{\n",
              "            console.log([gd, 'removed!']);\n",
              "            Plotly.purge(gd);\n",
              "            observer.disconnect();\n",
              "        }}\n",
              "}});\n",
              "\n",
              "// Listen for the removal of the full notebook cells\n",
              "var notebookContainer = gd.closest('#notebook-container');\n",
              "if (notebookContainer) {{\n",
              "    x.observe(notebookContainer, {childList: true});\n",
              "}}\n",
              "\n",
              "// Listen for the clearing of the current output cell\n",
              "var outputEl = gd.closest('.output');\n",
              "if (outputEl) {{\n",
              "    x.observe(outputEl, {childList: true});\n",
              "}}\n",
              "\n",
              "                        })\n",
              "                };\n",
              "                \n",
              "            </script>\n",
              "        </div>\n",
              "</body>\n",
              "</html>"
            ]
          },
          "metadata": {}
        }
      ]
    },
    {
      "cell_type": "markdown",
      "metadata": {
        "id": "E1XHlwrvVXp-"
      },
      "source": [
        "###  <strong> Exercise 12 </strong> - Compute the statistics using Pyspark (1 point)\n",
        "\n",
        "\n",
        "<p align=\"justify\">\n",
        "<font size=\"3\">\n",
        "We want to calculate the statistics of the bitcoin as we did before. However, use PySpark methods this time.\n",
        "\n",
        "To this end:\n",
        "<ul>\n",
        "     <li>   import the data from Parquet into a Spark DataFrame </li>\n",
        "     <li>   remove null values </li>\n",
        "     <li>   perform the aggregation of the results </li> \n",
        "     <li>   convert the results to Pandas </li> \n",
        " \n",
        "</ul> \n",
        "</font>\n",
        "</p>"
      ]
    },
    {
      "cell_type": "code",
      "metadata": {
        "id": "BS8iV5dfDgw7"
      },
      "source": [
        "df_spark = spark.read.parquet(\"BTC/\")"
      ],
      "execution_count": 28,
      "outputs": []
    },
    {
      "cell_type": "code",
      "metadata": {
        "id": "zcS4_jawVXp_",
        "colab": {
          "base_uri": "https://localhost:8080/"
        },
        "outputId": "485069e9-8786-460a-eb4f-10f9d8c33b47"
      },
      "source": [
        "%%time\n",
        "group_ym = df_spark.na.drop()\\\n",
        "    .select([\"Volume_BTC\", \"Year\", \"Month\"]).groupBy([\"Year\", \"Month\"])\n",
        "res_df = group_ym.agg(\n",
        "    mean(\"Volume_BTC\").alias(\"Mean_Vol\"),\n",
        "    stddev(\"Volume_BTC\").alias(\"Std_Vol\"),\n",
        "    spark_min(\"Volume_BTC\").alias(\"Min_Vol\"),\n",
        "    spark_max(\"Volume_BTC\").alias(\"Max_Vol\"))\n",
        "res_df.show(5)"
      ],
      "execution_count": 29,
      "outputs": [
        {
          "output_type": "stream",
          "name": "stdout",
          "text": [
            "+----+-----+------------------+------------------+----------+------------+\n",
            "|Year|Month|          Mean_Vol|           Std_Vol|   Min_Vol|     Max_Vol|\n",
            "+----+-----+------------------+------------------+----------+------------+\n",
            "|2012|   10| 20.39613620802532| 54.24699556644981|    9.4E-5|2258.8231405|\n",
            "|2015|    2|12.095179597807542| 44.14933419866533| 2.0452E-4|2037.2239038|\n",
            "|2019|   10| 6.147061206279663| 17.74559911795412|0.00127783|564.21436237|\n",
            "|2017|    3| 8.468866447160776|28.983700290764208|    1.0E-8|1616.0600006|\n",
            "|2017|    8| 8.684880075589284|17.696462104349653|       0.0|533.10078293|\n",
            "+----+-----+------------------+------------------+----------+------------+\n",
            "only showing top 5 rows\n",
            "\n",
            "CPU times: user 36 ms, sys: 4.17 ms, total: 40.1 ms\n",
            "Wall time: 3.42 s\n"
          ]
        }
      ]
    },
    {
      "cell_type": "code",
      "metadata": {
        "colab": {
          "base_uri": "https://localhost:8080/",
          "height": 419
        },
        "id": "eIUERBqzESmK",
        "outputId": "d648d0be-0a8f-4ecb-fde6-bd881c7e33d8"
      },
      "source": [
        "stats_pandas2 = res_df.toPandas()\n",
        "get_date_from_year_month(stats_pandas2)    \n",
        "stats_pandas2.sort_values(by=\"Date\", inplace=True)\n",
        "stats_pandas2.reset_index(inplace=True, drop=True)\n",
        "stats_pandas2"
      ],
      "execution_count": 30,
      "outputs": [
        {
          "output_type": "execute_result",
          "data": {
            "text/html": [
              "<div>\n",
              "<style scoped>\n",
              "    .dataframe tbody tr th:only-of-type {\n",
              "        vertical-align: middle;\n",
              "    }\n",
              "\n",
              "    .dataframe tbody tr th {\n",
              "        vertical-align: top;\n",
              "    }\n",
              "\n",
              "    .dataframe thead th {\n",
              "        text-align: right;\n",
              "    }\n",
              "</style>\n",
              "<table border=\"1\" class=\"dataframe\">\n",
              "  <thead>\n",
              "    <tr style=\"text-align: right;\">\n",
              "      <th></th>\n",
              "      <th>Year</th>\n",
              "      <th>Month</th>\n",
              "      <th>Mean_Vol</th>\n",
              "      <th>Std_Vol</th>\n",
              "      <th>Min_Vol</th>\n",
              "      <th>Max_Vol</th>\n",
              "      <th>Date</th>\n",
              "    </tr>\n",
              "  </thead>\n",
              "  <tbody>\n",
              "    <tr>\n",
              "      <th>0</th>\n",
              "      <td>2011</td>\n",
              "      <td>12</td>\n",
              "      <td>23.829470</td>\n",
              "      <td>22.711133</td>\n",
              "      <td>0.455581</td>\n",
              "      <td>48.000000</td>\n",
              "      <td>2011-12-01</td>\n",
              "    </tr>\n",
              "    <tr>\n",
              "      <th>1</th>\n",
              "      <td>2012</td>\n",
              "      <td>1</td>\n",
              "      <td>4.031777</td>\n",
              "      <td>6.740555</td>\n",
              "      <td>0.020000</td>\n",
              "      <td>43.312196</td>\n",
              "      <td>2012-01-01</td>\n",
              "    </tr>\n",
              "    <tr>\n",
              "      <th>2</th>\n",
              "      <td>2012</td>\n",
              "      <td>2</td>\n",
              "      <td>8.313993</td>\n",
              "      <td>11.924511</td>\n",
              "      <td>0.003138</td>\n",
              "      <td>92.654874</td>\n",
              "      <td>2012-02-01</td>\n",
              "    </tr>\n",
              "    <tr>\n",
              "      <th>3</th>\n",
              "      <td>2012</td>\n",
              "      <td>3</td>\n",
              "      <td>15.197791</td>\n",
              "      <td>26.505990</td>\n",
              "      <td>0.002096</td>\n",
              "      <td>247.560124</td>\n",
              "      <td>2012-03-01</td>\n",
              "    </tr>\n",
              "    <tr>\n",
              "      <th>4</th>\n",
              "      <td>2012</td>\n",
              "      <td>4</td>\n",
              "      <td>21.683913</td>\n",
              "      <td>36.393538</td>\n",
              "      <td>0.001276</td>\n",
              "      <td>300.516098</td>\n",
              "      <td>2012-04-01</td>\n",
              "    </tr>\n",
              "    <tr>\n",
              "      <th>...</th>\n",
              "      <td>...</td>\n",
              "      <td>...</td>\n",
              "      <td>...</td>\n",
              "      <td>...</td>\n",
              "      <td>...</td>\n",
              "      <td>...</td>\n",
              "      <td>...</td>\n",
              "    </tr>\n",
              "    <tr>\n",
              "      <th>107</th>\n",
              "      <td>2020</td>\n",
              "      <td>11</td>\n",
              "      <td>6.695166</td>\n",
              "      <td>12.974320</td>\n",
              "      <td>0.001542</td>\n",
              "      <td>360.652808</td>\n",
              "      <td>2020-11-01</td>\n",
              "    </tr>\n",
              "    <tr>\n",
              "      <th>108</th>\n",
              "      <td>2020</td>\n",
              "      <td>12</td>\n",
              "      <td>5.742400</td>\n",
              "      <td>10.432593</td>\n",
              "      <td>0.001030</td>\n",
              "      <td>358.619032</td>\n",
              "      <td>2020-12-01</td>\n",
              "    </tr>\n",
              "    <tr>\n",
              "      <th>109</th>\n",
              "      <td>2021</td>\n",
              "      <td>1</td>\n",
              "      <td>10.253061</td>\n",
              "      <td>16.947097</td>\n",
              "      <td>0.000002</td>\n",
              "      <td>398.565948</td>\n",
              "      <td>2021-01-01</td>\n",
              "    </tr>\n",
              "    <tr>\n",
              "      <th>110</th>\n",
              "      <td>2021</td>\n",
              "      <td>2</td>\n",
              "      <td>5.965070</td>\n",
              "      <td>10.971809</td>\n",
              "      <td>0.000443</td>\n",
              "      <td>248.504517</td>\n",
              "      <td>2021-02-01</td>\n",
              "    </tr>\n",
              "    <tr>\n",
              "      <th>111</th>\n",
              "      <td>2021</td>\n",
              "      <td>3</td>\n",
              "      <td>3.555766</td>\n",
              "      <td>6.490702</td>\n",
              "      <td>0.000016</td>\n",
              "      <td>164.425570</td>\n",
              "      <td>2021-03-01</td>\n",
              "    </tr>\n",
              "  </tbody>\n",
              "</table>\n",
              "<p>112 rows × 7 columns</p>\n",
              "</div>"
            ],
            "text/plain": [
              "     Year  Month   Mean_Vol    Std_Vol   Min_Vol     Max_Vol       Date\n",
              "0    2011     12  23.829470  22.711133  0.455581   48.000000 2011-12-01\n",
              "1    2012      1   4.031777   6.740555  0.020000   43.312196 2012-01-01\n",
              "2    2012      2   8.313993  11.924511  0.003138   92.654874 2012-02-01\n",
              "3    2012      3  15.197791  26.505990  0.002096  247.560124 2012-03-01\n",
              "4    2012      4  21.683913  36.393538  0.001276  300.516098 2012-04-01\n",
              "..    ...    ...        ...        ...       ...         ...        ...\n",
              "107  2020     11   6.695166  12.974320  0.001542  360.652808 2020-11-01\n",
              "108  2020     12   5.742400  10.432593  0.001030  358.619032 2020-12-01\n",
              "109  2021      1  10.253061  16.947097  0.000002  398.565948 2021-01-01\n",
              "110  2021      2   5.965070  10.971809  0.000443  248.504517 2021-02-01\n",
              "111  2021      3   3.555766   6.490702  0.000016  164.425570 2021-03-01\n",
              "\n",
              "[112 rows x 7 columns]"
            ]
          },
          "metadata": {},
          "execution_count": 30
        }
      ]
    },
    {
      "cell_type": "markdown",
      "metadata": {
        "id": "IAzvUAQJVXp_"
      },
      "source": [
        "### Extra. Equivalence of results\n",
        "\n",
        "<p align=\"justify\">\n",
        "<font size=\"3\">\n",
        "Now that you have seen two procedures to get the results, you must compare the outputs:\n",
        "<ul>\n",
        "     <li>  verify that the pandas.DataFrames resulting from <code>applyInPandas</code> and PySpark functions are equivalent. </li> \n",
        "      <li> compare the processing time between <code>applyInPandas</code> and PySpark functions and comment them. </li> \n",
        " \n",
        "</ul>\n",
        "</font>\n",
        "</p>\n",
        "\n"
      ]
    },
    {
      "cell_type": "code",
      "metadata": {
        "id": "4lngxwISVXp_",
        "colab": {
          "base_uri": "https://localhost:8080/"
        },
        "outputId": "7b87b1f3-5257-4bad-ee6b-d363646ce25e"
      },
      "source": [
        "cols = [\"Mean_Vol\", \"Std_Vol\", \"Min_Vol\", \"Max_Vol\", \"Year\", \"Month\", \"Date\"]\n",
        "try:\n",
        "    assert_frame_equal(stats_pandas, stats_pandas2[cols])\n",
        "    print(\"The two DataFrames are equal.\")\n",
        "except:  # if DataFrames are not equal\n",
        "    print(\"The two DataFrames are NOT equal.\")"
      ],
      "execution_count": 35,
      "outputs": [
        {
          "output_type": "stream",
          "name": "stdout",
          "text": [
            "The two DataFrames are equal.\n"
          ]
        }
      ]
    },
    {
      "cell_type": "markdown",
      "metadata": {
        "id": "Sqf5ZumSHfIY"
      },
      "source": [
        "### Comparison\n",
        "\n",
        "1. <code>applyInPandas</code> method: CPU times: user 103 ms, sys: 20.9 ms, total: 123 ms, Wall time: 17 s.\n",
        "2.   PySpark methods: CPU times: user 36 ms, sys: 4.17 ms, total: 40.1 ms, Wall time: 3.42 s.\n",
        "\n",
        "It is obvious that using PySpark methods is 3-4 times faster than using <code>applyInPandas</code>. However, we should also note that <code>applyInPandas</code> is actually doing more work than the PySpark routine. In addition to <code>Mean_Vol</code>, <code>Std_Vol</code>, <code>Min_Vol</code>, and <code>Max_Vol</code>, <code>pd.DataFrame.describe()</code> method also computes 25th, 50th, and 75th percentiles of the <code>Volume_BTC</code>.\n",
        "\n",
        "However, even if they did a similar amount of computation, I believe PySpark will still be faster (but not 3-4 times faster).\n"
      ]
    },
    {
      "cell_type": "markdown",
      "metadata": {
        "id": "nSw_cXcmVXqA"
      },
      "source": [
        "### Extra - Plotting the financial data (1 point)\n",
        "\n",
        "\n",
        "\n",
        "<p align=\"justify\">\n",
        "<font size=\"3\">\n",
        "Now that you have seen some examples, you can draw your graphs:\n",
        "<ul>\n",
        "     <li>   filter the global DataFrame from Parquet and take only the first day of the year 2021 </li> \n",
        "         <li> convert it to a pandas.DataFrame </li> \n",
        "         <li> display the data using the <code>plot_candlestick</code> routine </li> \n",
        " \n",
        "</ul>\n",
        "\n",
        "\n",
        "    \n",
        "</font>\n",
        "</p>\n",
        "\n"
      ]
    },
    {
      "cell_type": "code",
      "metadata": {
        "id": "R05figbfVXqA"
      },
      "source": [
        "def plot_candlestick(df):\n",
        "    trace = {\n",
        "      \"x\": df.Date_Time,\n",
        "      \"close\": dfp[\"Open\"],\n",
        "      \"decreasing\": {\"line\": {\"color\": \"#008000\"}}, \n",
        "      \"high\":df[\"High\"] ,\n",
        "      \"increasing\": {\"line\": {\"color\": \"#db4052\"}}, \n",
        "      \"low\": df[\"Low\"],\n",
        "      \"name\": \"BTC\", \n",
        "      \"open\": df[\"Close\"],\n",
        "      \"type\": \"candlestick\"\n",
        "    }\n",
        "\n",
        "    layout = {\n",
        "      \"height\":1000,\n",
        "      \"showlegend\": True, \n",
        "      \"title\": \"Technical Analysis\",\n",
        "    }\n",
        "    \n",
        "    fig = go.Figure(data=[trace], layout=layout)\n",
        "    fig.show(renderer=\"colab\")"
      ],
      "execution_count": 32,
      "outputs": []
    },
    {
      "cell_type": "code",
      "metadata": {
        "id": "hu81JTxBVXqA"
      },
      "source": [
        "df_spark_filtered = df_spark.filter(df_spark.Date_Time == \"2021-01-01\")\n",
        "dfp = df_spark_filtered.toPandas()"
      ],
      "execution_count": 33,
      "outputs": []
    },
    {
      "cell_type": "code",
      "metadata": {
        "id": "5VQE8mhPVXqB",
        "scrolled": false,
        "colab": {
          "base_uri": "https://localhost:8080/",
          "height": 1000
        },
        "outputId": "20da2df0-9c26-4b24-fa02-6d6073ba7c7a"
      },
      "source": [
        "plot_candlestick(dfp)"
      ],
      "execution_count": 34,
      "outputs": [
        {
          "output_type": "display_data",
          "data": {
            "text/html": [
              "<html>\n",
              "<head><meta charset=\"utf-8\" /></head>\n",
              "<body>\n",
              "    <div>\n",
              "            <script src=\"https://cdnjs.cloudflare.com/ajax/libs/mathjax/2.7.5/MathJax.js?config=TeX-AMS-MML_SVG\"></script><script type=\"text/javascript\">if (window.MathJax) {MathJax.Hub.Config({SVG: {font: \"STIX-Web\"}});}</script>\n",
              "                <script type=\"text/javascript\">window.PlotlyConfig = {MathJaxConfig: 'local'};</script>\n",
              "        <script src=\"https://cdn.plot.ly/plotly-latest.min.js\"></script>    \n",
              "            <div id=\"7f41b185-3b2e-441b-b97a-5c91a4fc7c00\" class=\"plotly-graph-div\" style=\"height:1000px; width:100%;\"></div>\n",
              "            <script type=\"text/javascript\">\n",
              "                \n",
              "                    window.PLOTLYENV=window.PLOTLYENV || {};\n",
              "                    \n",
              "                if (document.getElementById(\"7f41b185-3b2e-441b-b97a-5c91a4fc7c00\")) {\n",
              "                    Plotly.newPlot(\n",
              "                        '7f41b185-3b2e-441b-b97a-5c91a4fc7c00',\n",
              "                        [{\"close\": [28999.63], \"decreasing\": {\"line\": {\"color\": \"#008000\"}}, \"high\": [29022.01], \"increasing\": {\"line\": {\"color\": \"#db4052\"}}, \"low\": [28999.14], \"name\": \"BTC\", \"open\": [29006.31], \"type\": \"candlestick\", \"x\": [\"2021-01-01T00:00:00\"]}],\n",
              "                        {\"height\": 1000, \"showlegend\": true, \"template\": {\"data\": {\"bar\": [{\"error_x\": {\"color\": \"#2a3f5f\"}, \"error_y\": {\"color\": \"#2a3f5f\"}, \"marker\": {\"line\": {\"color\": \"#E5ECF6\", \"width\": 0.5}}, \"type\": \"bar\"}], \"barpolar\": [{\"marker\": {\"line\": {\"color\": \"#E5ECF6\", \"width\": 0.5}}, \"type\": \"barpolar\"}], \"carpet\": [{\"aaxis\": {\"endlinecolor\": \"#2a3f5f\", \"gridcolor\": \"white\", \"linecolor\": \"white\", \"minorgridcolor\": \"white\", \"startlinecolor\": \"#2a3f5f\"}, \"baxis\": {\"endlinecolor\": \"#2a3f5f\", \"gridcolor\": \"white\", \"linecolor\": \"white\", \"minorgridcolor\": \"white\", \"startlinecolor\": \"#2a3f5f\"}, \"type\": \"carpet\"}], \"choropleth\": [{\"colorbar\": {\"outlinewidth\": 0, \"ticks\": \"\"}, \"type\": \"choropleth\"}], \"contour\": [{\"colorbar\": {\"outlinewidth\": 0, \"ticks\": \"\"}, \"colorscale\": [[0.0, \"#0d0887\"], [0.1111111111111111, \"#46039f\"], [0.2222222222222222, \"#7201a8\"], [0.3333333333333333, \"#9c179e\"], [0.4444444444444444, \"#bd3786\"], [0.5555555555555556, \"#d8576b\"], [0.6666666666666666, \"#ed7953\"], [0.7777777777777778, \"#fb9f3a\"], [0.8888888888888888, \"#fdca26\"], [1.0, \"#f0f921\"]], \"type\": \"contour\"}], \"contourcarpet\": [{\"colorbar\": {\"outlinewidth\": 0, \"ticks\": \"\"}, \"type\": \"contourcarpet\"}], \"heatmap\": [{\"colorbar\": {\"outlinewidth\": 0, \"ticks\": \"\"}, \"colorscale\": [[0.0, \"#0d0887\"], [0.1111111111111111, \"#46039f\"], [0.2222222222222222, \"#7201a8\"], [0.3333333333333333, \"#9c179e\"], [0.4444444444444444, \"#bd3786\"], [0.5555555555555556, \"#d8576b\"], [0.6666666666666666, \"#ed7953\"], [0.7777777777777778, \"#fb9f3a\"], [0.8888888888888888, \"#fdca26\"], [1.0, \"#f0f921\"]], \"type\": \"heatmap\"}], \"heatmapgl\": [{\"colorbar\": {\"outlinewidth\": 0, \"ticks\": \"\"}, \"colorscale\": [[0.0, \"#0d0887\"], [0.1111111111111111, \"#46039f\"], [0.2222222222222222, \"#7201a8\"], [0.3333333333333333, \"#9c179e\"], [0.4444444444444444, \"#bd3786\"], [0.5555555555555556, \"#d8576b\"], [0.6666666666666666, \"#ed7953\"], [0.7777777777777778, \"#fb9f3a\"], [0.8888888888888888, \"#fdca26\"], [1.0, \"#f0f921\"]], \"type\": \"heatmapgl\"}], \"histogram\": [{\"marker\": {\"colorbar\": {\"outlinewidth\": 0, \"ticks\": \"\"}}, \"type\": \"histogram\"}], \"histogram2d\": [{\"colorbar\": {\"outlinewidth\": 0, \"ticks\": \"\"}, \"colorscale\": [[0.0, \"#0d0887\"], [0.1111111111111111, \"#46039f\"], [0.2222222222222222, \"#7201a8\"], [0.3333333333333333, \"#9c179e\"], [0.4444444444444444, \"#bd3786\"], [0.5555555555555556, \"#d8576b\"], [0.6666666666666666, \"#ed7953\"], [0.7777777777777778, \"#fb9f3a\"], [0.8888888888888888, \"#fdca26\"], [1.0, \"#f0f921\"]], \"type\": \"histogram2d\"}], \"histogram2dcontour\": [{\"colorbar\": {\"outlinewidth\": 0, \"ticks\": \"\"}, \"colorscale\": [[0.0, \"#0d0887\"], [0.1111111111111111, \"#46039f\"], [0.2222222222222222, \"#7201a8\"], [0.3333333333333333, \"#9c179e\"], [0.4444444444444444, \"#bd3786\"], [0.5555555555555556, \"#d8576b\"], [0.6666666666666666, \"#ed7953\"], [0.7777777777777778, \"#fb9f3a\"], [0.8888888888888888, \"#fdca26\"], [1.0, \"#f0f921\"]], \"type\": \"histogram2dcontour\"}], \"mesh3d\": [{\"colorbar\": {\"outlinewidth\": 0, \"ticks\": \"\"}, \"type\": \"mesh3d\"}], \"parcoords\": [{\"line\": {\"colorbar\": {\"outlinewidth\": 0, \"ticks\": \"\"}}, \"type\": \"parcoords\"}], \"pie\": [{\"automargin\": true, \"type\": \"pie\"}], \"scatter\": [{\"marker\": {\"colorbar\": {\"outlinewidth\": 0, \"ticks\": \"\"}}, \"type\": \"scatter\"}], \"scatter3d\": [{\"line\": {\"colorbar\": {\"outlinewidth\": 0, \"ticks\": \"\"}}, \"marker\": {\"colorbar\": {\"outlinewidth\": 0, \"ticks\": \"\"}}, \"type\": \"scatter3d\"}], \"scattercarpet\": [{\"marker\": {\"colorbar\": {\"outlinewidth\": 0, \"ticks\": \"\"}}, \"type\": \"scattercarpet\"}], \"scattergeo\": [{\"marker\": {\"colorbar\": {\"outlinewidth\": 0, \"ticks\": \"\"}}, \"type\": \"scattergeo\"}], \"scattergl\": [{\"marker\": {\"colorbar\": {\"outlinewidth\": 0, \"ticks\": \"\"}}, \"type\": \"scattergl\"}], \"scattermapbox\": [{\"marker\": {\"colorbar\": {\"outlinewidth\": 0, \"ticks\": \"\"}}, \"type\": \"scattermapbox\"}], \"scatterpolar\": [{\"marker\": {\"colorbar\": {\"outlinewidth\": 0, \"ticks\": \"\"}}, \"type\": \"scatterpolar\"}], \"scatterpolargl\": [{\"marker\": {\"colorbar\": {\"outlinewidth\": 0, \"ticks\": \"\"}}, \"type\": \"scatterpolargl\"}], \"scatterternary\": [{\"marker\": {\"colorbar\": {\"outlinewidth\": 0, \"ticks\": \"\"}}, \"type\": \"scatterternary\"}], \"surface\": [{\"colorbar\": {\"outlinewidth\": 0, \"ticks\": \"\"}, \"colorscale\": [[0.0, \"#0d0887\"], [0.1111111111111111, \"#46039f\"], [0.2222222222222222, \"#7201a8\"], [0.3333333333333333, \"#9c179e\"], [0.4444444444444444, \"#bd3786\"], [0.5555555555555556, \"#d8576b\"], [0.6666666666666666, \"#ed7953\"], [0.7777777777777778, \"#fb9f3a\"], [0.8888888888888888, \"#fdca26\"], [1.0, \"#f0f921\"]], \"type\": \"surface\"}], \"table\": [{\"cells\": {\"fill\": {\"color\": \"#EBF0F8\"}, \"line\": {\"color\": \"white\"}}, \"header\": {\"fill\": {\"color\": \"#C8D4E3\"}, \"line\": {\"color\": \"white\"}}, \"type\": \"table\"}]}, \"layout\": {\"annotationdefaults\": {\"arrowcolor\": \"#2a3f5f\", \"arrowhead\": 0, \"arrowwidth\": 1}, \"coloraxis\": {\"colorbar\": {\"outlinewidth\": 0, \"ticks\": \"\"}}, \"colorscale\": {\"diverging\": [[0, \"#8e0152\"], [0.1, \"#c51b7d\"], [0.2, \"#de77ae\"], [0.3, \"#f1b6da\"], [0.4, \"#fde0ef\"], [0.5, \"#f7f7f7\"], [0.6, \"#e6f5d0\"], [0.7, \"#b8e186\"], [0.8, \"#7fbc41\"], [0.9, \"#4d9221\"], [1, \"#276419\"]], \"sequential\": [[0.0, \"#0d0887\"], [0.1111111111111111, \"#46039f\"], [0.2222222222222222, \"#7201a8\"], [0.3333333333333333, \"#9c179e\"], [0.4444444444444444, \"#bd3786\"], [0.5555555555555556, \"#d8576b\"], [0.6666666666666666, \"#ed7953\"], [0.7777777777777778, \"#fb9f3a\"], [0.8888888888888888, \"#fdca26\"], [1.0, \"#f0f921\"]], \"sequentialminus\": [[0.0, \"#0d0887\"], [0.1111111111111111, \"#46039f\"], [0.2222222222222222, \"#7201a8\"], [0.3333333333333333, \"#9c179e\"], [0.4444444444444444, \"#bd3786\"], [0.5555555555555556, \"#d8576b\"], [0.6666666666666666, \"#ed7953\"], [0.7777777777777778, \"#fb9f3a\"], [0.8888888888888888, \"#fdca26\"], [1.0, \"#f0f921\"]]}, \"colorway\": [\"#636efa\", \"#EF553B\", \"#00cc96\", \"#ab63fa\", \"#FFA15A\", \"#19d3f3\", \"#FF6692\", \"#B6E880\", \"#FF97FF\", \"#FECB52\"], \"font\": {\"color\": \"#2a3f5f\"}, \"geo\": {\"bgcolor\": \"white\", \"lakecolor\": \"white\", \"landcolor\": \"#E5ECF6\", \"showlakes\": true, \"showland\": true, \"subunitcolor\": \"white\"}, \"hoverlabel\": {\"align\": \"left\"}, \"hovermode\": \"closest\", \"mapbox\": {\"style\": \"light\"}, \"paper_bgcolor\": \"white\", \"plot_bgcolor\": \"#E5ECF6\", \"polar\": {\"angularaxis\": {\"gridcolor\": \"white\", \"linecolor\": \"white\", \"ticks\": \"\"}, \"bgcolor\": \"#E5ECF6\", \"radialaxis\": {\"gridcolor\": \"white\", \"linecolor\": \"white\", \"ticks\": \"\"}}, \"scene\": {\"xaxis\": {\"backgroundcolor\": \"#E5ECF6\", \"gridcolor\": \"white\", \"gridwidth\": 2, \"linecolor\": \"white\", \"showbackground\": true, \"ticks\": \"\", \"zerolinecolor\": \"white\"}, \"yaxis\": {\"backgroundcolor\": \"#E5ECF6\", \"gridcolor\": \"white\", \"gridwidth\": 2, \"linecolor\": \"white\", \"showbackground\": true, \"ticks\": \"\", \"zerolinecolor\": \"white\"}, \"zaxis\": {\"backgroundcolor\": \"#E5ECF6\", \"gridcolor\": \"white\", \"gridwidth\": 2, \"linecolor\": \"white\", \"showbackground\": true, \"ticks\": \"\", \"zerolinecolor\": \"white\"}}, \"shapedefaults\": {\"line\": {\"color\": \"#2a3f5f\"}}, \"ternary\": {\"aaxis\": {\"gridcolor\": \"white\", \"linecolor\": \"white\", \"ticks\": \"\"}, \"baxis\": {\"gridcolor\": \"white\", \"linecolor\": \"white\", \"ticks\": \"\"}, \"bgcolor\": \"#E5ECF6\", \"caxis\": {\"gridcolor\": \"white\", \"linecolor\": \"white\", \"ticks\": \"\"}}, \"title\": {\"x\": 0.05}, \"xaxis\": {\"automargin\": true, \"gridcolor\": \"white\", \"linecolor\": \"white\", \"ticks\": \"\", \"title\": {\"standoff\": 15}, \"zerolinecolor\": \"white\", \"zerolinewidth\": 2}, \"yaxis\": {\"automargin\": true, \"gridcolor\": \"white\", \"linecolor\": \"white\", \"ticks\": \"\", \"title\": {\"standoff\": 15}, \"zerolinecolor\": \"white\", \"zerolinewidth\": 2}}}, \"title\": {\"text\": \"Technical Analysis\"}},\n",
              "                        {\"responsive\": true}\n",
              "                    ).then(function(){\n",
              "                            \n",
              "var gd = document.getElementById('7f41b185-3b2e-441b-b97a-5c91a4fc7c00');\n",
              "var x = new MutationObserver(function (mutations, observer) {{\n",
              "        var display = window.getComputedStyle(gd).display;\n",
              "        if (!display || display === 'none') {{\n",
              "            console.log([gd, 'removed!']);\n",
              "            Plotly.purge(gd);\n",
              "            observer.disconnect();\n",
              "        }}\n",
              "}});\n",
              "\n",
              "// Listen for the removal of the full notebook cells\n",
              "var notebookContainer = gd.closest('#notebook-container');\n",
              "if (notebookContainer) {{\n",
              "    x.observe(notebookContainer, {childList: true});\n",
              "}}\n",
              "\n",
              "// Listen for the clearing of the current output cell\n",
              "var outputEl = gd.closest('.output');\n",
              "if (outputEl) {{\n",
              "    x.observe(outputEl, {childList: true});\n",
              "}}\n",
              "\n",
              "                        })\n",
              "                };\n",
              "                \n",
              "            </script>\n",
              "        </div>\n",
              "</body>\n",
              "</html>"
            ]
          },
          "metadata": {}
        }
      ]
    },
    {
      "cell_type": "markdown",
      "metadata": {
        "id": "524h_jgeVXqB"
      },
      "source": [
        "### Conclusion \n",
        "\n",
        "<p align=\"justify\">\n",
        "<font size=\"3\">\n",
        "<code>applyInPandas</code>  can be very useful when you need to apply advanced Python code or Python libraries (e.g., scikit-learn). In other cases, however, you can just use PySpark routines that rely on powerful storage techniques (for example, Parquet).    \n",
        "</font>\n",
        "</p>"
      ]
    }
  ]
}